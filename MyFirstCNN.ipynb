{
  "nbformat": 4,
  "nbformat_minor": 0,
  "metadata": {
    "colab": {
      "provenance": [],
      "gpuType": "T4",
      "authorship_tag": "ABX9TyNMSmu8gcSojucmHDDnte93",
      "include_colab_link": true
    },
    "kernelspec": {
      "name": "python3",
      "display_name": "Python 3"
    },
    "language_info": {
      "name": "python"
    },
    "accelerator": "GPU"
  },
  "cells": [
    {
      "cell_type": "markdown",
      "metadata": {
        "id": "view-in-github",
        "colab_type": "text"
      },
      "source": [
        "<a href=\"https://colab.research.google.com/github/akirakudo901/MyFirstCNN/blob/master/MyFirstCNN.ipynb\" target=\"_parent\"><img src=\"https://colab.research.google.com/assets/colab-badge.svg\" alt=\"Open In Colab\"/></a>"
      ]
    },
    {
      "cell_type": "markdown",
      "source": [
        "**Here is my attempt as of 2023/05/01 to understand how CNNs work.**\n",
        "\n",
        "To grasp how to create & train a CNN, I use the [KMNIST dataset](https://github.com/rois-codh/kmnist)\n",
        ", defining my own models until a CNN emerges with good enough\n",
        "performance.\n",
        "\n",
        "(Apparently an above 97% accuracy is a good goal, since benchmarks perform at 99% and above, while my initial trial yielded 94%.)\n",
        "\n",
        "\n",
        "Below will also be the general idea for my coding journey.\n",
        "\n",
        "**Task definition**\n",
        "\n",
        "Our goal is to create a CNN which takes in KMNIST images and classifies the label of\n",
        "those images with some accuracy.\n",
        "\n",
        "Supervised learning on images.\n",
        "- Dataset: KMNIST dataset, 10 classes of 7000 images each.\n",
        "- Input: 3x28x28 image.\n",
        "- Output: probability that the image is in one of the 10 categories.\n",
        "\n",
        "**Rough flow of work**\n",
        "\n",
        "- Divide data into training and testing (as given, 6:1. Could also make a \"validation\" dataset, but task might be simple enough to ignore this).\n",
        "- Define a CNN model. This should be the most learning-ful part.\n",
        "- Training:\n",
        "1. Initialize the model\n",
        "2. Feed images as batch into the network to calculate predictions\n",
        "3. Obtain the loss by comparing with the actual labels\n",
        "4. Model learns via parameter adjustment with loss\n",
        "5. The capability to generalize is monitored via loss calculated upon the testing set\n",
        "6. Process repeated until training loss goes down and testing loss stays low\n",
        "7. *Evaluate the ultimate capability through loss onto validation set (If I want to).*\n",
        "\n",
        "To be iterated over different hyperparameters (epoch, learning rate, etc.)\n",
        "\n",
        "***Credits:***\n",
        "\n",
        "The dataset and work related is attributed as below:\n",
        "\n",
        "\"KMNIST Dataset\" (created by CODH), adapted from \"Kuzushiji Dataset\" (created by NIJL and others), doi:10.20676/00000341"
      ],
      "metadata": {
        "id": "4zxA1NKgO5JU"
      }
    },
    {
      "cell_type": "code",
      "source": [
        "# Some setup code for folders\n",
        "!mkdir kmnist\n",
        "!mkdir models\n",
        "\n",
        "data_download_folder = \"./kmnist\""
      ],
      "metadata": {
        "id": "NvFowcSFQWBD"
      },
      "execution_count": null,
      "outputs": []
    },
    {
      "cell_type": "markdown",
      "source": [
        "#**Visualization of data**"
      ],
      "metadata": {
        "id": "dHQCjWOlyUE1"
      }
    },
    {
      "cell_type": "code",
      "source": [
        "# Data download\n",
        "# Code adapted from interactive download python code in kmnist github repo.\n",
        "import requests\n",
        "\n",
        "try:\n",
        "    from tqdm import tqdm\n",
        "except ImportError:\n",
        "    tqdm = lambda x, total, unit: x  # If tqdm doesn't exist, replace it with a function that does nothing\n",
        "    print('**** Could not import tqdm. Please install tqdm for download progressbars! (pip install tqdm) ****')\n",
        "\n",
        "\n",
        "\n",
        "# Download a list of files\n",
        "def download_list(url_list, save_folder_path):\n",
        "    for url in url_list:\n",
        "        path = url.split('/')[-1]\n",
        "        r = requests.get(url, stream=True)\n",
        "        with open(save_folder_path + \"/\" + path, 'wb') as f:\n",
        "            total_length = int(r.headers.get('content-length'))\n",
        "            print('Downloading {} - {:.1f} MB'.format(path, (total_length / 1024000)))\n",
        "\n",
        "            for chunk in tqdm(r.iter_content(chunk_size=1024), total=int(total_length / 1024) + 1, unit=\"KB\"):\n",
        "                if chunk:\n",
        "                    f.write(chunk)\n",
        "    print('All dataset files downloaded!')\n",
        "\n",
        "# download Kuzushiji-MNIST (10 classes, 28x28, 70k examples) in NumPy data format (.npz)\n",
        "download_list(['http://codh.rois.ac.jp/kmnist/dataset/kmnist/kmnist-train-imgs.npz',\n",
        "              'http://codh.rois.ac.jp/kmnist/dataset/kmnist/kmnist-train-labels.npz',\n",
        "              'http://codh.rois.ac.jp/kmnist/dataset/kmnist/kmnist-test-imgs.npz',\n",
        "              'http://codh.rois.ac.jp/kmnist/dataset/kmnist/kmnist-test-labels.npz'],\n",
        "              data_download_folder)"
      ],
      "metadata": {
        "colab": {
          "base_uri": "https://localhost:8080/"
        },
        "id": "d2jbgBwYQ9E1",
        "outputId": "d8bb4925-e3a9-4afd-e57f-23e279180020"
      },
      "execution_count": null,
      "outputs": [
        {
          "output_type": "stream",
          "name": "stdout",
          "text": [
            "Downloading kmnist-train-imgs.npz - 18.0 MB\n"
          ]
        },
        {
          "output_type": "stream",
          "name": "stderr",
          "text": [
            "100%|██████████| 17954/17954 [00:11<00:00, 1545.13KB/s]\n"
          ]
        },
        {
          "output_type": "stream",
          "name": "stdout",
          "text": [
            "Downloading kmnist-train-labels.npz - 0.0 MB\n"
          ]
        },
        {
          "output_type": "stream",
          "name": "stderr",
          "text": [
            "100%|██████████| 30/30 [00:00<00:00, 421.28KB/s]\n"
          ]
        },
        {
          "output_type": "stream",
          "name": "stdout",
          "text": [
            "Downloading kmnist-test-imgs.npz - 3.0 MB\n"
          ]
        },
        {
          "output_type": "stream",
          "name": "stderr",
          "text": [
            "100%|██████████| 3008/3008 [00:02<00:00, 1427.82KB/s]\n"
          ]
        },
        {
          "output_type": "stream",
          "name": "stdout",
          "text": [
            "Downloading kmnist-test-labels.npz - 0.0 MB\n"
          ]
        },
        {
          "output_type": "stream",
          "name": "stderr",
          "text": [
            "100%|██████████| 6/6 [00:00<00:00, 20560.31KB/s]"
          ]
        },
        {
          "output_type": "stream",
          "name": "stdout",
          "text": [
            "All dataset files downloaded!\n"
          ]
        },
        {
          "output_type": "stream",
          "name": "stderr",
          "text": [
            "\n"
          ]
        }
      ]
    },
    {
      "cell_type": "code",
      "source": [
        "# Show some images from the source\n",
        "import torchvision\n",
        "import torch\n",
        "import numpy as np\n",
        "import matplotlib.pyplot as plt\n",
        "\n",
        "with np.load(data_download_folder + \"/\" + \"kmnist-test-imgs.npz\") as data:\n",
        "    test_imgs = torch.from_numpy(data[\"arr_0\"][:16]).unsqueeze(1)\n",
        "    plt.imshow(\n",
        "        np.transpose(\n",
        "            torchvision.utils.make_grid(test_imgs).numpy(),\n",
        "            (1, 2, 0)\n",
        "            ),\n",
        "        cmap='gray',\n",
        "        vmin=0,\n",
        "        vmax=255\n",
        "        )\n",
        "\n",
        "    plt.show()"
      ],
      "metadata": {
        "id": "gQeg4fK5yJac",
        "colab": {
          "base_uri": "https://localhost:8080/",
          "height": 192
        },
        "outputId": "df66d789-30cb-4ed8-b8c6-5b97e4abd43f"
      },
      "execution_count": null,
      "outputs": [
        {
          "output_type": "display_data",
          "data": {
            "text/plain": [
              "<Figure size 640x480 with 1 Axes>"
            ],
            "image/png": "[encoded data removed]"
          },
          "metadata": {}
        }
      ]
    },
    {
      "cell_type": "markdown",
      "source": [
        "# **MyCNN code**"
      ],
      "metadata": {
        "id": "UCCO-ZTqPREN"
      }
    },
    {
      "cell_type": "code",
      "execution_count": null,
      "metadata": {
        "id": "_IJh7JHxOt26"
      },
      "outputs": [],
      "source": [
        "\"\"\"\n",
        "Code implementing my own CNN. Start from a very basic understanding, and then build\n",
        "and experiment to see what's gonna succeed in performing well.\n",
        "\n",
        "I might use the article below as learning source for implementing \"LeNet\".\n",
        "https://pyimagesearch.com/2016/08/01/lenet-convolutional-neural-network-in-python/\n",
        "\"\"\"\n",
        "\n",
        "import torch\n",
        "import torch.nn as nn\n",
        "import torch.nn.functional as F\n",
        "\n",
        "class MyFirstCNNv1(nn.Module):\n",
        "\n",
        "    def __init__(self,\n",
        "                 input_shape : tuple[int, int, int],\n",
        "                 output_size : int\n",
        "                 ):\n",
        "        \"\"\"\n",
        "        Creates a CNN with convolution - max pool stacks.\n",
        "        First version implemented, which scored an accuracy of nearly 95%.\n",
        "\n",
        "        :param Tuple input_size: A tuple (channel, height, width) for input shape of image.\n",
        "        :param int output_size: The size of output equal to the number of classes we predict for.\n",
        "        \"\"\"\n",
        "        super(MyFirstCNNv1, self).__init__()\n",
        "\n",
        "        num_channel = input_shape[0]\n",
        "        l1_num_kernel = 32\n",
        "        l2_num_kernel = l1_num_kernel * 2\n",
        "\n",
        "        self.conv_mpool_stack = nn.Sequential(\n",
        "            nn.Conv2d( #28x28x3 -> 24x24x32\n",
        "                in_channels=num_channel,\n",
        "                out_channels=l1_num_kernel,\n",
        "                kernel_size=5\n",
        "            ),\n",
        "            nn.ReLU(),\n",
        "            nn.MaxPool2d(kernel_size=2), #24x24x32 -> 12x12x32\n",
        "            nn.Conv2d(l1_num_kernel, l2_num_kernel, 3), #12x12x32 -> 10x10x64\n",
        "            nn.ReLU(),\n",
        "            nn.MaxPool2d(kernel_size=2) #10x10x64 -> 5x5x64\n",
        "        )\n",
        "        #fully connected layers\n",
        "        fc1_in = 5**2 * l2_num_kernel\n",
        "        fc1_out = fc1_in * 2\n",
        "        fc2_in = fc1_out\n",
        "\n",
        "        self.fc1 = nn.Linear( #fc1_in -> fc2_in\n",
        "            in_features= fc1_in,\n",
        "            out_features= fc1_out\n",
        "        )\n",
        "        self.fc2 = nn.Linear(fc2_in, output_size) #fc2_in -> 10\n",
        "\n",
        "    def forward(self, x : torch.tensor):\n",
        "        \"\"\"\n",
        "        Evaluates the given tensor in this model.\n",
        "\n",
        "        :param torch.tensor x: The given tensor of shape (batch, channel, height, width).\n",
        "        :return torch.tensor: The evaluated tensor to be returned.\n",
        "        \"\"\"\n",
        "        x = self.conv_mpool_stack(x)\n",
        "        x = torch.flatten(x, start_dim=1)\n",
        "        x = self.fc1(x)\n",
        "        x = F.relu(x)\n",
        "        x = self.fc2(x)\n",
        "        x = F.softmax(x, dim=1)\n",
        "        return x\n",
        "\n",
        "\n",
        "class MyFirstCNNv2(nn.Module):\n",
        "\n",
        "    def __init__(self,\n",
        "                 input_shape : tuple[int, int, int],\n",
        "                 output_size : int\n",
        "                 ):\n",
        "        \"\"\"\n",
        "        Creates a CNN with convolution - max pool stacks.\n",
        "        Second version with the goal to increase the number of conv layers by 1.\n",
        "\n",
        "        :param Tuple input_size: A tuple (channel, height, width) for input shape of image.\n",
        "        :param int output_size: The size of output equal to the number of classes we predict for.\n",
        "        \"\"\"\n",
        "        super(MyFirstCNNv2, self).__init__()\n",
        "\n",
        "        num_channel = input_shape[0]\n",
        "        l1_num_kernel = 32\n",
        "        l2_num_kernel = l1_num_kernel * 2\n",
        "        l3_num_kernel = l2_num_kernel * 2\n",
        "\n",
        "        self.conv_mpool_stack = nn.Sequential(\n",
        "            nn.Conv2d( #28x28x3 -> 28x28x32\n",
        "                in_channels=num_channel,\n",
        "                out_channels=l1_num_kernel,\n",
        "                kernel_size=5,\n",
        "                padding='same'\n",
        "            ),\n",
        "            nn.ReLU(),\n",
        "            nn.MaxPool2d(kernel_size=2), #28x28x32 -> 14x14x32\n",
        "            nn.Conv2d(l1_num_kernel, l2_num_kernel, 3, padding='same'), #14x14x32 -> 14x14x64\n",
        "            nn.ReLU(),\n",
        "            nn.MaxPool2d(kernel_size=2), #14x14x64 -> 7x7x64\n",
        "            nn.Conv2d(l2_num_kernel, l3_num_kernel, 3, padding='same'), #7x7x64 -> 7x7x128\n",
        "            nn.ReLU()\n",
        "            # nn.AvgPool2d(kernel_size=7) #7x7x128 -> 1x1x128\n",
        "        )\n",
        "        #fully connected layers\n",
        "        fc1_in = 7**2 * l3_num_kernel\n",
        "        fc1_out = fc1_in * 2\n",
        "        fc2_in = fc1_out\n",
        "\n",
        "        self.fc1 = nn.Linear( #fc1_in -> fc2_in\n",
        "            in_features= fc1_in,\n",
        "            out_features= fc1_out\n",
        "        )\n",
        "        self.fc2 = nn.Linear(fc2_in, output_size) #fc2_in -> 10\n",
        "\n",
        "    def forward(self, x : torch.tensor):\n",
        "        \"\"\"\n",
        "        Evaluates the given tensor in this model.\n",
        "\n",
        "        :param torch.tensor x: The given tensor of shape (batch, channel, height, width).\n",
        "        :return torch.tensor: The evaluated tensor to be returned.\n",
        "        \"\"\"\n",
        "        x = self.conv_mpool_stack(x)\n",
        "        x = torch.flatten(x, start_dim=1)\n",
        "        x = self.fc1(x)\n",
        "        x = F.relu(x)\n",
        "        x = self.fc2(x)\n",
        "        x = F.softmax(x, dim=1)\n",
        "        return x\n",
        "\n",
        "class MyFirstCNNv3(nn.Module):\n",
        "\n",
        "    def __init__(self,\n",
        "                 input_shape : tuple[int, int, int],\n",
        "                 output_size : int\n",
        "                 ):\n",
        "        \"\"\"\n",
        "        Creates a CNN with convolution - max pool stacks.\n",
        "        Third version with the goal to combine two types of conv layers together from v1 and v2\n",
        "        for different field of vision.\n",
        "\n",
        "        :param Tuple input_size: A tuple (channel, height, width) for input shape of image.\n",
        "        :param int output_size: The size of output equal to the number of classes we predict for.\n",
        "        \"\"\"\n",
        "        super(MyFirstCNNv3, self).__init__()\n",
        "\n",
        "        num_channel = input_shape[0]\n",
        "        l1_num_kernel = 32 # keeping # of kernels the same, twice as expensive to compute\n",
        "        l2_num_kernel = l1_num_kernel * 2\n",
        "        l3_num_kernel = l2_num_kernel * 2\n",
        "\n",
        "        # conv stack 1, taken from v1\n",
        "        self.conv_mpool_stack_1 = nn.Sequential(\n",
        "            nn.Conv2d( #28x28x3 -> 24x24x32\n",
        "                in_channels=num_channel,\n",
        "                out_channels=l1_num_kernel,\n",
        "                kernel_size=5\n",
        "            ),\n",
        "            nn.ReLU(),\n",
        "            nn.MaxPool2d(kernel_size=2), #24x24x32 -> 12x12x32\n",
        "            nn.Conv2d(l1_num_kernel, l2_num_kernel, 3), #12x12x32 -> 10x10x64\n",
        "            nn.ReLU(),\n",
        "            nn.MaxPool2d(kernel_size=2) #10x10x64 -> 5x5x64\n",
        "        )\n",
        "        # conv stack 2, taken from v2\n",
        "        self.conv_mpool_stack_2 = nn.Sequential(\n",
        "            nn.Conv2d( #28x28x3 -> 28x28x32\n",
        "                in_channels=num_channel,\n",
        "                out_channels=l1_num_kernel,\n",
        "                kernel_size=5,\n",
        "                padding='same'\n",
        "            ),\n",
        "            nn.ReLU(),\n",
        "            nn.MaxPool2d(kernel_size=2), #28x28x32 -> 14x14x32\n",
        "            nn.Conv2d(l1_num_kernel, l2_num_kernel, 3, padding='same'), #14x14x32 -> 14x14x64\n",
        "            nn.ReLU(),\n",
        "            nn.MaxPool2d(kernel_size=2), #14x14x64 -> 7x7x64\n",
        "            nn.Conv2d(l2_num_kernel, l3_num_kernel, 3, padding='same'), #7x7x64 -> 7x7x128\n",
        "            nn.ReLU()\n",
        "        )\n",
        "        #fully connected layers\n",
        "        fc1_in = (5**2 * l2_num_kernel) + (7**2 * l3_num_kernel)\n",
        "        fc1_out = fc1_in * 2\n",
        "        fc2_in = fc1_out\n",
        "\n",
        "        self.fc1 = nn.Linear( #fc1_in -> fc2_in\n",
        "            in_features= fc1_in,\n",
        "            out_features= fc1_out\n",
        "        )\n",
        "        self.fc2 = nn.Linear(fc2_in, output_size) #fc2_in -> 10\n",
        "\n",
        "    def forward(self, x : torch.tensor):\n",
        "        \"\"\"\n",
        "        Evaluates the given tensor in this model.\n",
        "\n",
        "        :param torch.tensor x: The given tensor of shape (batch, channel, height, width).\n",
        "        :return torch.tensor: The evaluated tensor to be returned.\n",
        "        \"\"\"\n",
        "        x1 = self.conv_mpool_stack_1(x)\n",
        "        x2 = self.conv_mpool_stack_2(x)\n",
        "        x = torch.cat( (torch.flatten(x1, start_dim=1), torch.flatten(x2, start_dim=1)), dim=1)\n",
        "        x = self.fc1(x)\n",
        "        x = F.relu(x)\n",
        "        x = self.fc2(x)\n",
        "        x = F.softmax(x, dim=1)\n",
        "        return x"
      ]
    },
    {
      "cell_type": "markdown",
      "source": [
        "#**Training**"
      ],
      "metadata": {
        "id": "0bIvcDeRPfky"
      }
    },
    {
      "cell_type": "code",
      "source": [
        "\"\"\"\n",
        "The code to be ultimately ran to execute training of our neural network.\n",
        "The rough sketch is given in the \"rough flow of work\" part in the README.\n",
        "\"\"\"\n",
        "\n",
        "from datetime import datetime\n",
        "\n",
        "import numpy as np\n",
        "import matplotlib.pyplot as plt\n",
        "import tqdm\n",
        "\n",
        "import torch\n",
        "import torch.nn as nn\n",
        "import torch.optim as optim\n",
        "from torch.utils.data import Dataset, DataLoader, TensorDataset\n",
        "\n",
        "def set_device():\n",
        "  \"\"\"\n",
        "  Set the device. CUDA if available, CPU otherwise\n",
        "\n",
        "  Args:\n",
        "    None\n",
        "\n",
        "  Returns:\n",
        "    Nothing\n",
        "  \"\"\"\n",
        "  device = \"cuda\" if torch.cuda.is_available() else \"cpu\"\n",
        "  if device != \"cuda\":\n",
        "    print(\"WARNING: For this notebook to perform best, \"\n",
        "        \"if possible, in the menu under `Runtime` -> \"\n",
        "        \"`Change runtime type.`  select `GPU` \")\n",
        "  else:\n",
        "    print(\"GPU is enabled in this notebook.\")\n",
        "\n",
        "  return device\n",
        "\n",
        "#TODO MAKE INTO AN ACTUAL EXPLANATION OF THE CODE\n",
        "# TAKES A MODEL, AN OPTIMIZER, THE TRAIN / TEST DATA, THE NUMBER OF EPOCHS,\n",
        "# BATCH SIZE AND LEARNING RATE TO TRAIN THE MODEL AND RETURN A TRAINED VERSION\n",
        "# COULD INCLUDE OPTIMIZERS AND LOSS FUNCTIONS AS VARIABLES IF I REALLY WANTED TO\n",
        "def train(model : nn.Module,\n",
        "          train_data : Dataset,\n",
        "          test_data : Dataset,\n",
        "          num_classes : int,\n",
        "          num_epochs : int,\n",
        "          batch_size : int,\n",
        "          learning_rate : float,\n",
        "          device\n",
        "          ):\n",
        "\n",
        "    # Initialization\n",
        "    # first create dataloaders containing the data such that we can iterate on\n",
        "    train_dloader = DataLoader(dataset=train_data, batch_size=batch_size, shuffle=True)\n",
        "    test_dloader = DataLoader(dataset=test_data, batch_size=batch_size)\n",
        "\n",
        "    # set the loss function and optimizer\n",
        "    loss_fn = nn.CrossEntropyLoss()\n",
        "    optimizer = optim.Adam(params=model.parameters(), lr=learning_rate)\n",
        "\n",
        "    # store training / testing accuracy and loss over time\n",
        "    train_acc, test_acc, train_loss, test_loss = [], [], [], []\n",
        "\n",
        "\n",
        "    # Train loop per epoch\n",
        "    for i in range(num_epochs):\n",
        "        print(\"Epoch\", i + 1, \"!\")\n",
        "        # Train phase; initialization\n",
        "        model.train()\n",
        "\n",
        "        epoch_train_loss = 0\n",
        "        correct_train_pred = 0\n",
        "\n",
        "        it_train = iter(train_dloader)\n",
        "        # Training loop per data batch\n",
        "        # feed images as batch into the network to calculate predictions\n",
        "        for _ in tqdm.tqdm(range(len(train_dloader))):\n",
        "            images, labels = next(it_train)\n",
        "            labels = labels.to(torch.int64)\n",
        "            # make predictions and compute corresponding loss\n",
        "            predictions = model(images)\n",
        "            # print(\"\\n pred\", predictions, \"; shape: \", predictions.shape)\n",
        "            labelwise_probability = torch.zeros(len(labels), num_classes, dtype=predictions.dtype).to(device)\n",
        "            # print(\"\\n lwprob1\", labelwise_probability, \"; shape: \", labelwise_probability.shape)\n",
        "            labelwise_probability[torch.arange(len(labels)), labels] = 1.0\n",
        "            # print(\"\\n lwprob2\", labelwise_probability, \"; shape: \", labelwise_probability.shape)\n",
        "            loss = loss_fn(predictions, labelwise_probability)\n",
        "            # print(\"\\n loss\", loss, \"; shape: \", loss.shape)\n",
        "            correct_train_pred += torch.sum(\n",
        "                torch.argmax(predictions, dim=1) == labels\n",
        "                ).item()\n",
        "            # print(\"\\n corr_preds \", correct_train_pred)\n",
        "            epoch_train_loss += loss.item()\n",
        "            # perform an optimizer step\n",
        "            optimizer.zero_grad()\n",
        "            loss.backward()\n",
        "            optimizer.step()\n",
        "\n",
        "\n",
        "        # Train end in epoch\n",
        "        # track performance at epoch end\n",
        "        train_acc.append(tr_acc_ep := correct_train_pred / len(train_data))\n",
        "        train_loss.append(tr_los_ep := epoch_train_loss / len(train_data))\n",
        "        print(\"training accuracy: \", tr_acc_ep, \"; training loss: \", tr_los_ep)\n",
        "\n",
        "\n",
        "        # Evaluate phase; initialization\n",
        "        # evaluate and store performance to track extent of learning\n",
        "        model.eval()\n",
        "\n",
        "        epoch_test_loss = 0\n",
        "        correct_test_pred = 0\n",
        "\n",
        "        with torch.no_grad():\n",
        "            # Evaluate loop per data batch\n",
        "            for images, labels in test_dloader:\n",
        "                labels = labels.to(torch.int64)\n",
        "                predictions = model(images)\n",
        "                labelwise_probability = torch.zeros(len(labels), num_classes, dtype=predictions.dtype).to(device)\n",
        "                labelwise_probability[torch.arange(len(labels)), labels] = 1.0\n",
        "                loss = loss_fn(predictions, labelwise_probability)\n",
        "                correct_test_pred += torch.sum(\n",
        "                    torch.argmax(predictions, dim=1) == labels\n",
        "                    ).item()\n",
        "                epoch_test_loss += loss.item()\n",
        "\n",
        "\n",
        "            # Test end in epoch\n",
        "            # track performance at epoch end\n",
        "            test_acc.append(te_acc_ep := correct_test_pred / len(test_data))\n",
        "            test_loss.append(te_los_ep := epoch_test_loss / len(test_data))\n",
        "            print(\"testing accuracy: \", te_acc_ep, \"; testing loss: \", te_los_ep)\n",
        "\n",
        "    # After all training / testing\n",
        "    # nothing for now\n",
        "\n",
        "    return model, train_acc, test_acc, train_loss, test_loss"
      ],
      "metadata": {
        "id": "Xhp7-JkaPfLK"
      },
      "execution_count": null,
      "outputs": []
    },
    {
      "cell_type": "code",
      "source": [
        "DEVICE = set_device()\n",
        "\n",
        "input_shape = (1, 28, 28)\n",
        "num_classes = 10\n",
        "path_to_source = data_download_folder\n",
        "\n",
        "\n",
        "# preparing the data\n",
        "with np.load(path_to_source + \"/\" + \"kmnist-train-imgs.npz\") as data:\n",
        "    train_imgs = torch.from_numpy(data[\"arr_0\"]).to(torch.float32).to(DEVICE)\n",
        "    train_imgs = train_imgs.unsqueeze(1) #add a dummy \"channel\" dimension\n",
        "with np.load(path_to_source + \"/\" + \"kmnist-train-labels.npz\") as data:\n",
        "    train_labels = torch.from_numpy(data[\"arr_0\"]).to(DEVICE)\n",
        "with np.load(path_to_source + \"/\" + \"kmnist-test-imgs.npz\") as data:\n",
        "    test_imgs = torch.from_numpy(data[\"arr_0\"]).to(torch.float32).to(DEVICE)\n",
        "    test_imgs = test_imgs.unsqueeze(1) #add a dummy \"channel\" dimension\n",
        "with np.load(path_to_source + \"/\" + \"kmnist-test-labels.npz\") as data:\n",
        "    test_labels = torch.from_numpy(data[\"arr_0\"]).to(DEVICE)\n",
        "\n",
        "train_d : Dataset = TensorDataset(train_imgs, train_labels)\n",
        "test_d : Dataset = TensorDataset(test_imgs, test_labels)\n",
        "\n",
        "hyperparameters = [\n",
        "    {\n",
        "        \"num_epochs\" : 40,\n",
        "        \"batch_size\" : 128,\n",
        "        \"l_r\" : 5e-6\n",
        "    }\n",
        "]"
      ],
      "metadata": {
        "id": "e4L-Cmm7Pq-g",
        "colab": {
          "base_uri": "https://localhost:8080/"
        },
        "outputId": "a9be1b88-89be-4729-f84b-c4561cbdde55"
      },
      "execution_count": null,
      "outputs": [
        {
          "output_type": "stream",
          "name": "stdout",
          "text": [
            "GPU is enabled in this notebook.\n"
          ]
        }
      ]
    },
    {
      "cell_type": "code",
      "source": [
        "train_accs, test_accs, train_losses, test_losses = [], [], [], []\n",
        "\n",
        "for hparams in hyperparameters:\n",
        "    cnn = MyFirstCNNv3(input_shape=input_shape, output_size=num_classes).to(DEVICE)\n",
        "    trained_model, train_acc, test_acc, train_loss, test_loss = train(\n",
        "                        model=cnn,\n",
        "                        train_data=train_d,\n",
        "                        test_data=test_d,\n",
        "                        num_classes=num_classes,\n",
        "                        num_epochs=hparams[\"num_epochs\"],\n",
        "                        batch_size=hparams[\"batch_size\"],\n",
        "                        learning_rate=hparams[\"l_r\"],\n",
        "                        device=DEVICE\n",
        "                        )\n",
        "    new_model_name = \"./models/kmnist_model_\" + datetime.now().strftime(\"%Y_%m_%d_%H_%M\")\n",
        "    new_model_name += (\"_num_epochs_\" + str(hparams[\"num_epochs\"]))\n",
        "    new_model_name += (\"_batch_size_\" + str(hparams[\"batch_size\"]))\n",
        "    new_model_name += (\"_l_r_\" + str(hparams[\"l_r\"]))\n",
        "    torch.save(\n",
        "        trained_model.state_dict(),\n",
        "        new_model_name\n",
        "    )\n",
        "    train_accs.append(train_acc)\n",
        "    test_accs.append(test_acc)\n",
        "    train_losses.append(train_loss)\n",
        "    test_losses.append(test_loss)"
      ],
      "metadata": {
        "id": "pUsC3DViQQbp",
        "colab": {
          "base_uri": "https://localhost:8080/",
          "height": 1000
        },
        "outputId": "bae9fce3-5df4-4bce-f092-af0b908a68d4"
      },
      "execution_count": null,
      "outputs": [
        {
          "metadata": {
            "tags": null
          },
          "name": "stdout",
          "output_type": "stream",
          "text": [
            "Epoch 1 !\n"
          ]
        },
        {
          "metadata": {
            "tags": null
          },
          "name": "stderr",
          "output_type": "stream",
          "text": [
            "100%|██████████| 469/469 [00:38<00:00, 12.34it/s]\n"
          ]
        },
        {
          "metadata": {
            "tags": null
          },
          "name": "stdout",
          "output_type": "stream",
          "text": [
            "training accuracy:  0.4589 ; training loss:  0.015611340862512589\n",
            "testing accuracy:  0.4737 ; testing loss:  0.01566688640117645\n",
            "Epoch 2 !\n"
          ]
        },
        {
          "metadata": {
            "tags": null
          },
          "name": "stderr",
          "output_type": "stream",
          "text": [
            "100%|██████████| 469/469 [00:31<00:00, 14.74it/s]\n"
          ]
        },
        {
          "metadata": {
            "tags": null
          },
          "name": "stdout",
          "output_type": "stream",
          "text": [
            "training accuracy:  0.5883333333333334 ; training loss:  0.01460466999411583\n",
            "testing accuracy:  0.6574 ; testing loss:  0.014261765754222869\n",
            "Epoch 3 !\n"
          ]
        },
        {
          "metadata": {
            "tags": null
          },
          "name": "stderr",
          "output_type": "stream",
          "text": [
            "100%|██████████| 469/469 [00:32<00:00, 14.57it/s]\n"
          ]
        },
        {
          "metadata": {
            "tags": null
          },
          "name": "stdout",
          "output_type": "stream",
          "text": [
            "training accuracy:  0.7396 ; training loss:  0.013441550397872926\n",
            "testing accuracy:  0.722 ; testing loss:  0.013757001602649688\n",
            "Epoch 4 !\n"
          ]
        },
        {
          "metadata": {
            "tags": null
          },
          "name": "stderr",
          "output_type": "stream",
          "text": [
            "100%|██████████| 469/469 [00:31<00:00, 14.74it/s]\n"
          ]
        },
        {
          "metadata": {
            "tags": null
          },
          "name": "stdout",
          "output_type": "stream",
          "text": [
            "training accuracy:  0.7704 ; training loss:  0.013197148017088572\n",
            "testing accuracy:  0.7276 ; testing loss:  0.013698234355449677\n",
            "Epoch 5 !\n"
          ]
        },
        {
          "metadata": {
            "tags": null
          },
          "name": "stderr",
          "output_type": "stream",
          "text": [
            "100%|██████████| 469/469 [00:31<00:00, 14.70it/s]\n"
          ]
        },
        {
          "metadata": {
            "tags": null
          },
          "name": "stdout",
          "output_type": "stream",
          "text": [
            "training accuracy:  0.77595 ; training loss:  0.0131507364432017\n",
            "testing accuracy:  0.7357 ; testing loss:  0.013642261159420013\n",
            "Epoch 6 !\n"
          ]
        },
        {
          "metadata": {
            "tags": null
          },
          "name": "stderr",
          "output_type": "stream",
          "text": [
            "100%|██████████| 469/469 [00:31<00:00, 14.67it/s]\n"
          ]
        },
        {
          "metadata": {
            "tags": null
          },
          "name": "stdout",
          "output_type": "stream",
          "text": [
            "training accuracy:  0.7843166666666667 ; training loss:  0.013085694313049316\n",
            "testing accuracy:  0.7547 ; testing loss:  0.013480967700481414\n",
            "Epoch 7 !\n"
          ]
        },
        {
          "metadata": {
            "tags": null
          },
          "name": "stderr",
          "output_type": "stream",
          "text": [
            "100%|██████████| 469/469 [00:31<00:00, 14.67it/s]\n"
          ]
        },
        {
          "metadata": {
            "tags": null
          },
          "name": "stdout",
          "output_type": "stream",
          "text": [
            "training accuracy:  0.8128666666666666 ; training loss:  0.012867347057660421\n",
            "testing accuracy:  0.8154 ; testing loss:  0.01302281185388565\n",
            "Epoch 8 !\n"
          ]
        },
        {
          "metadata": {
            "tags": null
          },
          "name": "stderr",
          "output_type": "stream",
          "text": [
            "100%|██████████| 469/469 [00:31<00:00, 14.68it/s]\n"
          ]
        },
        {
          "metadata": {
            "tags": null
          },
          "name": "stdout",
          "output_type": "stream",
          "text": [
            "training accuracy:  0.8826333333333334 ; training loss:  0.012334443213542302\n",
            "testing accuracy:  0.8322 ; testing loss:  0.012877216553688049\n",
            "Epoch 9 !\n"
          ]
        },
        {
          "metadata": {
            "tags": null
          },
          "name": "stderr",
          "output_type": "stream",
          "text": [
            "100%|██████████| 469/469 [00:31<00:00, 14.70it/s]\n"
          ]
        },
        {
          "metadata": {
            "tags": null
          },
          "name": "stdout",
          "output_type": "stream",
          "text": [
            "training accuracy:  0.8875166666666666 ; training loss:  0.012292531472444534\n",
            "testing accuracy:  0.8382 ; testing loss:  0.01282925933599472\n",
            "Epoch 10 !\n"
          ]
        },
        {
          "metadata": {
            "tags": null
          },
          "name": "stderr",
          "output_type": "stream",
          "text": [
            "100%|██████████| 469/469 [00:31<00:00, 14.70it/s]\n"
          ]
        },
        {
          "metadata": {
            "tags": null
          },
          "name": "stdout",
          "output_type": "stream",
          "text": [
            "training accuracy:  0.8899666666666667 ; training loss:  0.01226811154882113\n",
            "testing accuracy:  0.8311 ; testing loss:  0.012881591796875\n",
            "Epoch 11 !\n"
          ]
        },
        {
          "metadata": {
            "tags": null
          },
          "name": "stderr",
          "output_type": "stream",
          "text": [
            "100%|██████████| 469/469 [00:31<00:00, 14.70it/s]\n"
          ]
        },
        {
          "metadata": {
            "tags": null
          },
          "name": "stdout",
          "output_type": "stream",
          "text": [
            "training accuracy:  0.8913666666666666 ; training loss:  0.01225824029246966\n",
            "testing accuracy:  0.8466 ; testing loss:  0.012753878903388976\n",
            "Epoch 12 !\n"
          ]
        },
        {
          "output_type": "stream",
          "name": "stderr",
          "text": [
            "100%|██████████| 469/469 [00:31<00:00, 14.70it/s]\n"
          ]
        },
        {
          "output_type": "stream",
          "name": "stdout",
          "text": [
            "training accuracy:  0.8928333333333334 ; training loss:  0.012243272252877553\n",
            "testing accuracy:  0.8464 ; testing loss:  0.01276172080039978\n",
            "Epoch 13 !\n"
          ]
        },
        {
          "output_type": "stream",
          "name": "stderr",
          "text": [
            "100%|██████████| 469/469 [00:31<00:00, 14.71it/s]\n"
          ]
        },
        {
          "output_type": "stream",
          "name": "stdout",
          "text": [
            "training accuracy:  0.8943833333333333 ; training loss:  0.012229238494237264\n",
            "testing accuracy:  0.8406 ; testing loss:  0.012804848384857178\n",
            "Epoch 14 !\n"
          ]
        },
        {
          "output_type": "stream",
          "name": "stderr",
          "text": [
            "100%|██████████| 469/469 [00:31<00:00, 14.69it/s]\n"
          ]
        },
        {
          "output_type": "stream",
          "name": "stdout",
          "text": [
            "training accuracy:  0.8948166666666667 ; training loss:  0.012225514403978984\n",
            "testing accuracy:  0.8459 ; testing loss:  0.012758169937133789\n",
            "Epoch 15 !\n"
          ]
        },
        {
          "output_type": "stream",
          "name": "stderr",
          "text": [
            "100%|██████████| 469/469 [00:32<00:00, 14.63it/s]\n"
          ]
        },
        {
          "output_type": "stream",
          "name": "stdout",
          "text": [
            "training accuracy:  0.89605 ; training loss:  0.012214585769176483\n",
            "testing accuracy:  0.8465 ; testing loss:  0.012754938745498658\n",
            "Epoch 16 !\n"
          ]
        },
        {
          "output_type": "stream",
          "name": "stderr",
          "text": [
            "100%|██████████| 469/469 [00:31<00:00, 14.67it/s]\n"
          ]
        },
        {
          "output_type": "stream",
          "name": "stdout",
          "text": [
            "training accuracy:  0.8965333333333333 ; training loss:  0.012208950440088908\n",
            "testing accuracy:  0.8497 ; testing loss:  0.012746092081069946\n",
            "Epoch 17 !\n"
          ]
        },
        {
          "output_type": "stream",
          "name": "stderr",
          "text": [
            "100%|██████████| 469/469 [00:31<00:00, 14.69it/s]\n"
          ]
        },
        {
          "output_type": "stream",
          "name": "stdout",
          "text": [
            "training accuracy:  0.89715 ; training loss:  0.012202413471539815\n",
            "testing accuracy:  0.8525 ; testing loss:  0.012705957043170929\n",
            "Epoch 18 !\n"
          ]
        },
        {
          "output_type": "stream",
          "name": "stderr",
          "text": [
            "100%|██████████| 469/469 [00:32<00:00, 14.65it/s]\n"
          ]
        },
        {
          "output_type": "stream",
          "name": "stdout",
          "text": [
            "training accuracy:  0.9690333333333333 ; training loss:  0.011665878462791443\n",
            "testing accuracy:  0.931 ; testing loss:  0.012106552600860595\n",
            "Epoch 19 !\n"
          ]
        },
        {
          "output_type": "stream",
          "name": "stderr",
          "text": [
            "100%|██████████| 469/469 [00:31<00:00, 14.75it/s]\n"
          ]
        },
        {
          "output_type": "stream",
          "name": "stdout",
          "text": [
            "training accuracy:  0.9938833333333333 ; training loss:  0.01147800211906433\n",
            "testing accuracy:  0.9335 ; testing loss:  0.012081643319129944\n",
            "Epoch 20 !\n"
          ]
        },
        {
          "output_type": "stream",
          "name": "stderr",
          "text": [
            "100%|██████████| 469/469 [00:31<00:00, 14.69it/s]\n"
          ]
        },
        {
          "output_type": "stream",
          "name": "stdout",
          "text": [
            "training accuracy:  0.99615 ; training loss:  0.01145629434188207\n",
            "testing accuracy:  0.9445 ; testing loss:  0.011994486737251281\n",
            "Epoch 21 !\n"
          ]
        },
        {
          "output_type": "stream",
          "name": "stderr",
          "text": [
            "100%|██████████| 469/469 [00:31<00:00, 14.71it/s]\n"
          ]
        },
        {
          "output_type": "stream",
          "name": "stdout",
          "text": [
            "training accuracy:  0.9965166666666667 ; training loss:  0.01145347749988238\n",
            "testing accuracy:  0.9407 ; testing loss:  0.012024828934669494\n",
            "Epoch 22 !\n"
          ]
        },
        {
          "output_type": "stream",
          "name": "stderr",
          "text": [
            "100%|██████████| 469/469 [00:31<00:00, 14.73it/s]\n"
          ]
        },
        {
          "output_type": "stream",
          "name": "stdout",
          "text": [
            "training accuracy:  0.9972666666666666 ; training loss:  0.011445005746682484\n",
            "testing accuracy:  0.9507 ; testing loss:  0.011946148180961609\n",
            "Epoch 23 !\n"
          ]
        },
        {
          "output_type": "stream",
          "name": "stderr",
          "text": [
            "100%|██████████| 469/469 [00:31<00:00, 14.69it/s]\n"
          ]
        },
        {
          "output_type": "stream",
          "name": "stdout",
          "text": [
            "training accuracy:  0.9974833333333334 ; training loss:  0.011444111063083013\n",
            "testing accuracy:  0.9473 ; testing loss:  0.011967975306510925\n",
            "Epoch 24 !\n"
          ]
        },
        {
          "output_type": "stream",
          "name": "stderr",
          "text": [
            "100%|██████████| 469/469 [00:31<00:00, 14.72it/s]\n"
          ]
        },
        {
          "output_type": "stream",
          "name": "stdout",
          "text": [
            "training accuracy:  0.9968666666666667 ; training loss:  0.011450245340665181\n",
            "testing accuracy:  0.9486 ; testing loss:  0.011965934526920319\n",
            "Epoch 25 !\n"
          ]
        },
        {
          "output_type": "stream",
          "name": "stderr",
          "text": [
            "100%|██████████| 469/469 [00:31<00:00, 14.72it/s]\n"
          ]
        },
        {
          "output_type": "stream",
          "name": "stdout",
          "text": [
            "training accuracy:  0.9971 ; training loss:  0.011447630035877229\n",
            "testing accuracy:  0.9461 ; testing loss:  0.011973833227157593\n",
            "Epoch 26 !\n"
          ]
        },
        {
          "output_type": "stream",
          "name": "stderr",
          "text": [
            "100%|██████████| 469/469 [00:31<00:00, 14.68it/s]\n"
          ]
        },
        {
          "output_type": "stream",
          "name": "stdout",
          "text": [
            "training accuracy:  0.9979166666666667 ; training loss:  0.011439489970604578\n",
            "testing accuracy:  0.9546 ; testing loss:  0.011908918607234954\n",
            "Epoch 27 !\n"
          ]
        },
        {
          "output_type": "stream",
          "name": "stderr",
          "text": [
            "100%|██████████| 469/469 [00:31<00:00, 14.66it/s]\n"
          ]
        },
        {
          "output_type": "stream",
          "name": "stdout",
          "text": [
            "training accuracy:  0.9976666666666667 ; training loss:  0.011442722457647323\n",
            "testing accuracy:  0.9432 ; testing loss:  0.011998863053321839\n",
            "Epoch 28 !\n"
          ]
        },
        {
          "output_type": "stream",
          "name": "stderr",
          "text": [
            "100%|██████████| 469/469 [00:31<00:00, 14.70it/s]\n"
          ]
        },
        {
          "output_type": "stream",
          "name": "stdout",
          "text": [
            "training accuracy:  0.9978666666666667 ; training loss:  0.011440267660220464\n",
            "testing accuracy:  0.9545 ; testing loss:  0.011913092637062073\n",
            "Epoch 29 !\n"
          ]
        },
        {
          "output_type": "stream",
          "name": "stderr",
          "text": [
            "100%|██████████| 469/469 [00:31<00:00, 14.72it/s]\n"
          ]
        },
        {
          "output_type": "stream",
          "name": "stdout",
          "text": [
            "training accuracy:  0.9973 ; training loss:  0.011445398418108621\n",
            "testing accuracy:  0.9479 ; testing loss:  0.011971590602397919\n",
            "Epoch 30 !\n"
          ]
        },
        {
          "output_type": "stream",
          "name": "stderr",
          "text": [
            "100%|██████████| 469/469 [00:31<00:00, 14.71it/s]\n"
          ]
        },
        {
          "output_type": "stream",
          "name": "stdout",
          "text": [
            "training accuracy:  0.9973666666666666 ; training loss:  0.011445060181617736\n",
            "testing accuracy:  0.9472 ; testing loss:  0.011963565123081207\n",
            "Epoch 31 !\n"
          ]
        },
        {
          "output_type": "stream",
          "name": "stderr",
          "text": [
            "100%|██████████| 469/469 [00:31<00:00, 14.71it/s]\n"
          ]
        },
        {
          "output_type": "stream",
          "name": "stdout",
          "text": [
            "training accuracy:  0.9981333333333333 ; training loss:  0.011437713408470154\n",
            "testing accuracy:  0.9515 ; testing loss:  0.011936212575435638\n",
            "Epoch 32 !\n"
          ]
        },
        {
          "output_type": "stream",
          "name": "stderr",
          "text": [
            "100%|██████████| 469/469 [00:31<00:00, 14.72it/s]\n"
          ]
        },
        {
          "output_type": "stream",
          "name": "stdout",
          "text": [
            "training accuracy:  0.9983 ; training loss:  0.011435285844405492\n",
            "testing accuracy:  0.9566 ; testing loss:  0.011899764060974122\n",
            "Epoch 33 !\n"
          ]
        },
        {
          "output_type": "stream",
          "name": "stderr",
          "text": [
            "100%|██████████| 469/469 [00:31<00:00, 14.71it/s]\n"
          ]
        },
        {
          "output_type": "stream",
          "name": "stdout",
          "text": [
            "training accuracy:  0.998 ; training loss:  0.011439180117845536\n",
            "testing accuracy:  0.9508 ; testing loss:  0.011942674160003662\n",
            "Epoch 34 !\n"
          ]
        },
        {
          "output_type": "stream",
          "name": "stderr",
          "text": [
            "100%|██████████| 469/469 [00:31<00:00, 14.72it/s]\n"
          ]
        },
        {
          "output_type": "stream",
          "name": "stdout",
          "text": [
            "training accuracy:  0.9980166666666667 ; training loss:  0.011438596846659979\n",
            "testing accuracy:  0.9539 ; testing loss:  0.011920436263084411\n",
            "Epoch 35 !\n"
          ]
        },
        {
          "output_type": "stream",
          "name": "stderr",
          "text": [
            "100%|██████████| 469/469 [00:31<00:00, 14.71it/s]\n"
          ]
        },
        {
          "output_type": "stream",
          "name": "stdout",
          "text": [
            "training accuracy:  0.99815 ; training loss:  0.011438429325819016\n",
            "testing accuracy:  0.9515 ; testing loss:  0.01193990181684494\n",
            "Epoch 36 !\n"
          ]
        },
        {
          "output_type": "stream",
          "name": "stderr",
          "text": [
            "100%|██████████| 469/469 [00:31<00:00, 14.71it/s]\n"
          ]
        },
        {
          "output_type": "stream",
          "name": "stdout",
          "text": [
            "training accuracy:  0.99825 ; training loss:  0.011435851615667344\n",
            "testing accuracy:  0.9559 ; testing loss:  0.011902744007110595\n",
            "Epoch 37 !\n"
          ]
        },
        {
          "output_type": "stream",
          "name": "stderr",
          "text": [
            "100%|██████████| 469/469 [00:31<00:00, 14.72it/s]\n"
          ]
        },
        {
          "output_type": "stream",
          "name": "stdout",
          "text": [
            "training accuracy:  0.9984166666666666 ; training loss:  0.011433758632342021\n",
            "testing accuracy:  0.9565 ; testing loss:  0.011896340417861938\n",
            "Epoch 38 !\n"
          ]
        },
        {
          "output_type": "stream",
          "name": "stderr",
          "text": [
            "100%|██████████| 469/469 [00:31<00:00, 14.72it/s]\n"
          ]
        },
        {
          "output_type": "stream",
          "name": "stdout",
          "text": [
            "training accuracy:  0.9984333333333333 ; training loss:  0.011433476275205611\n",
            "testing accuracy:  0.9567 ; testing loss:  0.011899433791637421\n",
            "Epoch 39 !\n"
          ]
        },
        {
          "output_type": "stream",
          "name": "stderr",
          "text": [
            "100%|██████████| 469/469 [00:31<00:00, 14.72it/s]\n"
          ]
        },
        {
          "output_type": "stream",
          "name": "stdout",
          "text": [
            "training accuracy:  0.99845 ; training loss:  0.011433626401424408\n",
            "testing accuracy:  0.949 ; testing loss:  0.011957048749923706\n",
            "Epoch 40 !\n"
          ]
        },
        {
          "output_type": "stream",
          "name": "stderr",
          "text": [
            "100%|██████████| 469/469 [00:31<00:00, 14.72it/s]\n"
          ]
        },
        {
          "output_type": "stream",
          "name": "stdout",
          "text": [
            "training accuracy:  0.9966 ; training loss:  0.011451374683777492\n",
            "testing accuracy:  0.9537 ; testing loss:  0.011922567665576934\n"
          ]
        },
        {
          "output_type": "display_data",
          "data": {
            "text/plain": [
              "<Figure size 640x480 with 1 Axes>"
            ],
            "image/png": "[encoded data removed]"
          },
          "metadata": {}
        },
        {
          "output_type": "display_data",
          "data": {
            "text/plain": [
              "<Figure size 640x480 with 1 Axes>"
            ],
            "image/png": "[encoded data removed]"
          },
          "metadata": {}
        }
      ]
    },
    {
      "cell_type": "code",
      "source": [
        "# Plotting the resulting accuracies while saving the figures\n",
        "for i in range(len(train_accs)):\n",
        "    train_acc_i = train_accs[i]\n",
        "    test_acc_i = test_accs[i]\n",
        "    train_loss_i = train_losses[i]\n",
        "    test_loss_i = test_losses[i]\n",
        "\n",
        "    plt.plot(range(len(train_acc_i)), train_acc_i, range(len(test_acc_i)), test_acc_i)\n",
        "    plt.title(\"KMNIST Train and test accuracy \" + str(i))\n",
        "    plt.xlabel(\"Epoch\")\n",
        "    plt.ylabel(\"Accuracy\")\n",
        "    plt.savefig(\"KMNIST_train_test_accuracy.png\", format='png')\n",
        "    plt.show()\n",
        "\n",
        "    plt.plot(range(len(train_loss_i)), train_loss_i, range(len(test_loss_i)), test_loss_i)\n",
        "    plt.title(\"KMNIST Train and test loss \" + str(i))\n",
        "    plt.xlabel(\"Epoch\")\n",
        "    plt.ylabel(\"Loss\")\n",
        "    plt.savefig(\"KMNIST_train_test_loss.png\", format='png')\n",
        "    plt.show()"
      ],
      "metadata": {
        "colab": {
          "base_uri": "https://localhost:8080/",
          "height": 927
        },
        "id": "ENtlfZXuHSmo",
        "outputId": "7b3a0932-8738-4ddd-f473-4e96e450ffbc"
      },
      "execution_count": null,
      "outputs": [
        {
          "output_type": "display_data",
          "data": {
            "text/plain": [
              "<Figure size 640x480 with 1 Axes>"
            ],
            "image/png": "[encoded data removed]"
          },
          "metadata": {}
        },
        {
          "output_type": "display_data",
          "data": {
            "text/plain": [
              "<Figure size 640x480 with 1 Axes>"
            ],
            "image/png": "[encoded data removed]"
          },
          "metadata": {}
        }
      ]
    }
  ]
}