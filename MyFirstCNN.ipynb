{
  "nbformat": 4,
  "nbformat_minor": 0,
  "metadata": {
    "colab": {
      "provenance": [],
      "authorship_tag": "ABX9TyNnIlkuYTNRNxHozlmeIZth",
      "include_colab_link": true
    },
    "kernelspec": {
      "name": "python3",
      "display_name": "Python 3"
    },
    "language_info": {
      "name": "python"
    },
    "gpuClass": "standard"
  },
  "cells": [
    {
      "cell_type": "markdown",
      "metadata": {
        "id": "view-in-github",
        "colab_type": "text"
      },
      "source": [
        "<a href=\"https://colab.research.google.com/github/akirakudo901/MyFirstCNN/blob/master/MyFirstCNN.ipynb\" target=\"_parent\"><img src=\"https://colab.research.google.com/assets/colab-badge.svg\" alt=\"Open In Colab\"/></a>"
      ]
    },
    {
      "cell_type": "markdown",
      "source": [
        "**Here is my attempt as of 2023/05/01 to understand how CNNs work.**\n",
        "\n",
        "To grasp how to create & train a CNN, I use the [KMNIST dataset](https://github.com/rois-codh/kmnist)\n",
        ", defining my own models until a CNN emerges with good enough\n",
        "performance.\n",
        "\n",
        "(Apparently an above 97% accuracy is a good goal, since benchmarks perform at 99% and above, while my initial trial yielded 94%.)\n",
        "\n",
        "\n",
        "Below will also be the general idea for my coding journey.\n",
        "\n",
        "**Task definition**\n",
        "\n",
        "Our goal is to create a CNN which takes in KMNIST images and classifies the label of \n",
        "those images with some accuracy.\n",
        "\n",
        "Supervised learning on images.\n",
        "- Dataset: KMNIST dataset, 10 classes of 7000 images each.\n",
        "- Input: 3x28x28 image.\n",
        "- Output: probability that the image is in one of the 10 categories.\n",
        "\n",
        "**Rough flow of work**\n",
        "\n",
        "- Divide data into training and testing (as given, 6:1. Could also make a \"validation\" dataset, but task might be simple enough to ignore this).\n",
        "- Define a CNN model. This should be the most learning-ful part.\n",
        "- Training:\n",
        "1. Initialize the model\n",
        "2. Feed images as batch into the network to calculate predictions\n",
        "3. Obtain the loss by comparing with the actual labels\n",
        "4. Model learns via parameter adjustment with loss\n",
        "5. The capability to generalize is monitored via loss calculated upon the testing set\n",
        "6. Process repeated until training loss goes down and testing loss stays low\n",
        "7. *Evaluate the ultimate capability through loss onto validation set (If I want to).*\n",
        "\n",
        "To be iterated over different hyperparameters (epoch, learning rate, etc.)\n",
        "\n",
        "***Credits:***\n",
        "\n",
        "The dataset and work related is attributed as below:\n",
        "\n",
        "\"KMNIST Dataset\" (created by CODH), adapted from \"Kuzushiji Dataset\" (created by NIJL and others), doi:10.20676/00000341"
      ],
      "metadata": {
        "id": "4zxA1NKgO5JU"
      }
    },
    {
      "cell_type": "code",
      "source": [
        "# Some setup code for folders\n",
        "!mkdir kmnist\n",
        "!mkdir models\n",
        "\n",
        "data_download_folder = \"./kmnist\""
      ],
      "metadata": {
        "id": "NvFowcSFQWBD"
      },
      "execution_count": null,
      "outputs": []
    },
    {
      "cell_type": "markdown",
      "source": [
        "#**Visualization of data**"
      ],
      "metadata": {
        "id": "dHQCjWOlyUE1"
      }
    },
    {
      "cell_type": "code",
      "source": [
        "# Data download\n",
        "# Code adapted from interactive download python code in kmnist github repo.\n",
        "import requests\n",
        "\n",
        "try:\n",
        "    from tqdm import tqdm\n",
        "except ImportError:\n",
        "    tqdm = lambda x, total, unit: x  # If tqdm doesn't exist, replace it with a function that does nothing\n",
        "    print('**** Could not import tqdm. Please install tqdm for download progressbars! (pip install tqdm) ****')\n",
        "\n",
        "\n",
        "\n",
        "# Download a list of files\n",
        "def download_list(url_list, save_folder_path):\n",
        "    for url in url_list:\n",
        "        path = url.split('/')[-1]\n",
        "        r = requests.get(url, stream=True)\n",
        "        with open(save_folder_path + \"/\" + path, 'wb') as f:\n",
        "            total_length = int(r.headers.get('content-length'))\n",
        "            print('Downloading {} - {:.1f} MB'.format(path, (total_length / 1024000)))\n",
        "\n",
        "            for chunk in tqdm(r.iter_content(chunk_size=1024), total=int(total_length / 1024) + 1, unit=\"KB\"):\n",
        "                if chunk:\n",
        "                    f.write(chunk)\n",
        "    print('All dataset files downloaded!')\n",
        "\n",
        "# download Kuzushiji-MNIST (10 classes, 28x28, 70k examples) in NumPy data format (.npz)\n",
        "download_list(['http://codh.rois.ac.jp/kmnist/dataset/kmnist/kmnist-train-imgs.npz',\n",
        "              'http://codh.rois.ac.jp/kmnist/dataset/kmnist/kmnist-train-labels.npz',\n",
        "              'http://codh.rois.ac.jp/kmnist/dataset/kmnist/kmnist-test-imgs.npz',\n",
        "              'http://codh.rois.ac.jp/kmnist/dataset/kmnist/kmnist-test-labels.npz'],\n",
        "              data_download_folder)"
      ],
      "metadata": {
        "colab": {
          "base_uri": "https://localhost:8080/"
        },
        "id": "d2jbgBwYQ9E1",
        "outputId": "2d969b8b-20af-4fb3-880d-a959e8394825"
      },
      "execution_count": null,
      "outputs": [
        {
          "output_type": "stream",
          "name": "stdout",
          "text": [
            "Downloading kmnist-train-imgs.npz - 18.0 MB\n"
          ]
        },
        {
          "output_type": "stream",
          "name": "stderr",
          "text": [
            "100%|██████████| 17954/17954 [00:04<00:00, 4203.34KB/s]\n"
          ]
        },
        {
          "output_type": "stream",
          "name": "stdout",
          "text": [
            "Downloading kmnist-train-labels.npz - 0.0 MB\n"
          ]
        },
        {
          "output_type": "stream",
          "name": "stderr",
          "text": [
            "100%|██████████| 30/30 [00:00<00:00, 858.66KB/s]\n"
          ]
        },
        {
          "output_type": "stream",
          "name": "stdout",
          "text": [
            "Downloading kmnist-test-imgs.npz - 3.0 MB\n"
          ]
        },
        {
          "output_type": "stream",
          "name": "stderr",
          "text": [
            "100%|██████████| 3008/3008 [00:01<00:00, 2851.66KB/s]\n"
          ]
        },
        {
          "output_type": "stream",
          "name": "stdout",
          "text": [
            "Downloading kmnist-test-labels.npz - 0.0 MB\n"
          ]
        },
        {
          "output_type": "stream",
          "name": "stderr",
          "text": [
            "100%|██████████| 6/6 [00:00<00:00, 11915.64KB/s]"
          ]
        },
        {
          "output_type": "stream",
          "name": "stdout",
          "text": [
            "All dataset files downloaded!\n"
          ]
        },
        {
          "output_type": "stream",
          "name": "stderr",
          "text": [
            "\n"
          ]
        }
      ]
    },
    {
      "cell_type": "code",
      "source": [
        "# Show some images from the source\n",
        "import torchvision\n",
        "import torch\n",
        "import numpy as np\n",
        "import matplotlib.pyplot as plt\n",
        "\n",
        "with np.load(data_download_folder + \"/\" + \"kmnist-test-imgs.npz\") as data:\n",
        "    test_imgs = torch.from_numpy(data[\"arr_0\"][:16]).unsqueeze(1)\n",
        "    plt.imshow(\n",
        "        np.transpose(\n",
        "            torchvision.utils.make_grid(test_imgs).numpy(), \n",
        "            (1, 2, 0)\n",
        "            ),\n",
        "        cmap='gray', \n",
        "        vmin=0, \n",
        "        vmax=255\n",
        "        )\n",
        "        \n",
        "    plt.show()"
      ],
      "metadata": {
        "id": "gQeg4fK5yJac",
        "colab": {
          "base_uri": "https://localhost:8080/",
          "height": 192
        },
        "outputId": "309b8d30-0ce1-4bee-a570-b3a8860e83a7"
      },
      "execution_count": null,
      "outputs": [
        {
          "output_type": "display_data",
          "data": {
            "text/plain": [
              "<Figure size 640x480 with 1 Axes>"
            ],
            "image/png": "[encoded data removed]"
          },
          "metadata": {}
        }
      ]
    },
    {
      "cell_type": "markdown",
      "source": [
        "# **MyCNN code**"
      ],
      "metadata": {
        "id": "UCCO-ZTqPREN"
      }
    },
    {
      "cell_type": "code",
      "execution_count": null,
      "metadata": {
        "id": "_IJh7JHxOt26"
      },
      "outputs": [],
      "source": [
        "\"\"\"\n",
        "Code implementing my own CNN. Start from a very basic understanding, and then build \n",
        "and experiment to see what's gonna succeed in performing well.\n",
        "\n",
        "I might use the article below as learning source for implementing \"LeNet\".\n",
        "https://pyimagesearch.com/2016/08/01/lenet-convolutional-neural-network-in-python/\n",
        "\"\"\"\n",
        "\n",
        "import torch\n",
        "import torch.nn as nn\n",
        "import torch.nn.functional as F\n",
        "\n",
        "class MyFirstCNNv1(nn.Module):\n",
        "\n",
        "    def __init__(self, \n",
        "                 input_shape : tuple[int, int, int],\n",
        "                 output_size : int\n",
        "                 ):\n",
        "        \"\"\"\n",
        "        Creates a CNN with convolution - max pool stacks.\n",
        "        First version implemented, which scored an accuracy of nearly 95%. \n",
        "\n",
        "        :param Tuple input_size: A tuple (channel, height, width) for input shape of image.\n",
        "        :param int output_size: The size of output equal to the number of classes we predict for.\n",
        "        \"\"\"\n",
        "        super(MyFirstCNNv1, self).__init__()\n",
        "\n",
        "        num_channel = input_shape[0]\n",
        "        l1_num_kernel = 32\n",
        "        l2_num_kernel = l1_num_kernel * 2\n",
        "        \n",
        "        self.conv_mpool_stack = nn.Sequential(\n",
        "            nn.Conv2d( #28x28x3 -> 24x24x32\n",
        "                in_channels=num_channel,\n",
        "                out_channels=l1_num_kernel,\n",
        "                kernel_size=5\n",
        "            ),\n",
        "            nn.ReLU(),\n",
        "            nn.MaxPool2d(kernel_size=2), #24x24x32 -> 12x12x32\n",
        "            nn.Conv2d(l1_num_kernel, l2_num_kernel, 3), #12x12x32 -> 10x10x64\n",
        "            nn.ReLU(),\n",
        "            nn.MaxPool2d(kernel_size=2) #10x10x64 -> 5x5x64\n",
        "        )\n",
        "        #fully connected layers\n",
        "        fc1_in = 5**2 * l2_num_kernel\n",
        "        fc1_out = fc1_in * 2\n",
        "        fc2_in = fc1_out\n",
        "\n",
        "        self.fc1 = nn.Linear( #fc1_in -> fc2_in\n",
        "            in_features= fc1_in,\n",
        "            out_features= fc1_out\n",
        "        )\n",
        "        self.fc2 = nn.Linear(fc2_in, output_size) #fc2_in -> 10\n",
        "    \n",
        "    def forward(self, x : torch.tensor):\n",
        "        \"\"\"\n",
        "        Evaluates the given tensor in this model.\n",
        "\n",
        "        :param torch.tensor x: The given tensor of shape (batch, channel, height, width).\n",
        "        :return torch.tensor: The evaluated tensor to be returned.\n",
        "        \"\"\"\n",
        "        x = self.conv_mpool_stack(x)\n",
        "        x = torch.flatten(x, start_dim=1)\n",
        "        x = self.fc1(x)\n",
        "        x = F.relu(x)\n",
        "        x = self.fc2(x)\n",
        "        x = F.softmax(x, dim=1)\n",
        "        return x\n",
        "\n",
        "\n",
        "class MyFirstCNNv2(nn.Module):\n",
        "\n",
        "    def __init__(self, \n",
        "                 input_shape : tuple[int, int, int],\n",
        "                 output_size : int\n",
        "                 ):\n",
        "        \"\"\"\n",
        "        Creates a CNN with convolution - max pool stacks.\n",
        "        Second version with the goal to increase the number of conv layers by 1.\n",
        "\n",
        "        :param Tuple input_size: A tuple (channel, height, width) for input shape of image.\n",
        "        :param int output_size: The size of output equal to the number of classes we predict for.\n",
        "        \"\"\"\n",
        "        super(MyFirstCNNv2, self).__init__()\n",
        "\n",
        "        num_channel = input_shape[0]\n",
        "        l1_num_kernel = 32\n",
        "        l2_num_kernel = l1_num_kernel * 2\n",
        "        l3_num_kernel = l2_num_kernel * 2\n",
        "\n",
        "        self.conv_mpool_stack = nn.Sequential(\n",
        "            nn.Conv2d( #28x28x3 -> 28x28x32\n",
        "                in_channels=num_channel,\n",
        "                out_channels=l1_num_kernel,\n",
        "                kernel_size=5,\n",
        "                padding='same'\n",
        "            ),\n",
        "            nn.ReLU(),\n",
        "            nn.MaxPool2d(kernel_size=2), #28x28x32 -> 14x14x32\n",
        "            nn.Conv2d(l1_num_kernel, l2_num_kernel, 3, padding='same'), #14x14x32 -> 14x14x64\n",
        "            nn.ReLU(),\n",
        "            nn.MaxPool2d(kernel_size=2), #14x14x64 -> 7x7x64\n",
        "            nn.Conv2d(l2_num_kernel, l3_num_kernel, 3, padding='same'), #7x7x64 -> 7x7x128\n",
        "            nn.ReLU()\n",
        "            # nn.AvgPool2d(kernel_size=7) #7x7x128 -> 1x1x128\n",
        "        )\n",
        "        #fully connected layers\n",
        "        fc1_in = 7**2 * l3_num_kernel\n",
        "        fc1_out = fc1_in * 2\n",
        "        fc2_in = fc1_out\n",
        "\n",
        "        self.fc1 = nn.Linear( #fc1_in -> fc2_in\n",
        "            in_features= fc1_in,\n",
        "            out_features= fc1_out\n",
        "        )\n",
        "        self.fc2 = nn.Linear(fc2_in, output_size) #fc2_in -> 10\n",
        "    \n",
        "    def forward(self, x : torch.tensor):\n",
        "        \"\"\"\n",
        "        Evaluates the given tensor in this model.\n",
        "\n",
        "        :param torch.tensor x: The given tensor of shape (batch, channel, height, width).\n",
        "        :return torch.tensor: The evaluated tensor to be returned.\n",
        "        \"\"\"\n",
        "        x = self.conv_mpool_stack(x)\n",
        "        x = torch.flatten(x, start_dim=1)\n",
        "        x = self.fc1(x)\n",
        "        x = F.relu(x)\n",
        "        x = self.fc2(x)\n",
        "        x = F.softmax(x, dim=1)\n",
        "        return x\n",
        "\n",
        "class MyFirstCNNv3(nn.Module):\n",
        "\n",
        "    def __init__(self, \n",
        "                 input_shape : tuple[int, int, int],\n",
        "                 output_size : int\n",
        "                 ):\n",
        "        \"\"\"\n",
        "        Creates a CNN with convolution - max pool stacks.\n",
        "        Third version with the goal to combine two types of conv layers together from v1 and v2\n",
        "        for different field of vision.\n",
        "\n",
        "        :param Tuple input_size: A tuple (channel, height, width) for input shape of image.\n",
        "        :param int output_size: The size of output equal to the number of classes we predict for.\n",
        "        \"\"\"\n",
        "        super(MyFirstCNNv3, self).__init__()\n",
        "\n",
        "        num_channel = input_shape[0]\n",
        "        l1_num_kernel = 32 # keeping # of kernels the same, twice as expensive to compute \n",
        "        l2_num_kernel = l1_num_kernel * 2\n",
        "        l3_num_kernel = l2_num_kernel * 2\n",
        "        \n",
        "        # conv stack 1, taken from v1\n",
        "        self.conv_mpool_stack_1 = nn.Sequential(\n",
        "            nn.Conv2d( #28x28x3 -> 24x24x32\n",
        "                in_channels=num_channel,\n",
        "                out_channels=l1_num_kernel,\n",
        "                kernel_size=5\n",
        "            ),\n",
        "            nn.ReLU(),\n",
        "            nn.MaxPool2d(kernel_size=2), #24x24x32 -> 12x12x32\n",
        "            nn.Conv2d(l1_num_kernel, l2_num_kernel, 3), #12x12x32 -> 10x10x64\n",
        "            nn.ReLU(),\n",
        "            nn.MaxPool2d(kernel_size=2) #10x10x64 -> 5x5x64\n",
        "        )\n",
        "        # conv stack 2, taken from v2\n",
        "        self.conv_mpool_stack_2 = nn.Sequential(\n",
        "            nn.Conv2d( #28x28x3 -> 28x28x32\n",
        "                in_channels=num_channel,\n",
        "                out_channels=l1_num_kernel,\n",
        "                kernel_size=5,\n",
        "                padding='same'\n",
        "            ),\n",
        "            nn.ReLU(),\n",
        "            nn.MaxPool2d(kernel_size=2), #28x28x32 -> 14x14x32\n",
        "            nn.Conv2d(l1_num_kernel, l2_num_kernel, 3, padding='same'), #14x14x32 -> 14x14x64\n",
        "            nn.ReLU(),\n",
        "            nn.MaxPool2d(kernel_size=2), #14x14x64 -> 7x7x64\n",
        "            nn.Conv2d(l2_num_kernel, l3_num_kernel, 3, padding='same'), #7x7x64 -> 7x7x128\n",
        "            nn.ReLU()\n",
        "        )\n",
        "        #fully connected layers\n",
        "        fc1_in = (5**2 * l2_num_kernel) + (7**2 * l3_num_kernel)\n",
        "        fc1_out = fc1_in * 2\n",
        "        fc2_in = fc1_out\n",
        "\n",
        "        self.fc1 = nn.Linear( #fc1_in -> fc2_in\n",
        "            in_features= fc1_in,\n",
        "            out_features= fc1_out\n",
        "        )\n",
        "        self.fc2 = nn.Linear(fc2_in, output_size) #fc2_in -> 10\n",
        "    \n",
        "    def forward(self, x : torch.tensor):\n",
        "        \"\"\"\n",
        "        Evaluates the given tensor in this model.\n",
        "\n",
        "        :param torch.tensor x: The given tensor of shape (batch, channel, height, width).\n",
        "        :return torch.tensor: The evaluated tensor to be returned.\n",
        "        \"\"\"\n",
        "        x1 = self.conv_mpool_stack_1(x)\n",
        "        x2 = self.conv_mpool_stack_2(x)\n",
        "        x = torch.cat( (torch.flatten(x1, start_dim=1), torch.flatten(x2, start_dim=1)), dim=1)\n",
        "        x = self.fc1(x)\n",
        "        x = F.relu(x)\n",
        "        x = self.fc2(x)\n",
        "        x = F.softmax(x, dim=1)\n",
        "        return x"
      ]
    },
    {
      "cell_type": "markdown",
      "source": [
        "#**Training**"
      ],
      "metadata": {
        "id": "0bIvcDeRPfky"
      }
    },
    {
      "cell_type": "code",
      "source": [
        "\"\"\"\n",
        "The code to be ultimately ran to execute training of our neural network.\n",
        "The rough sketch is given in the \"rough flow of work\" part in the README.\n",
        "\"\"\"\n",
        "\n",
        "from datetime import datetime\n",
        "\n",
        "import numpy as np\n",
        "import matplotlib.pyplot as plt\n",
        "import tqdm\n",
        "\n",
        "import torch\n",
        "import torch.nn as nn\n",
        "import torch.optim as optim\n",
        "from torch.utils.data import Dataset, DataLoader, TensorDataset\n",
        "\n",
        "def set_device():\n",
        "  \"\"\"\n",
        "  Set the device. CUDA if available, CPU otherwise\n",
        "\n",
        "  Args:\n",
        "    None\n",
        "\n",
        "  Returns:\n",
        "    Nothing\n",
        "  \"\"\"\n",
        "  device = \"cuda\" if torch.cuda.is_available() else \"cpu\"\n",
        "  if device != \"cuda\":\n",
        "    print(\"WARNING: For this notebook to perform best, \"\n",
        "        \"if possible, in the menu under `Runtime` -> \"\n",
        "        \"`Change runtime type.`  select `GPU` \")\n",
        "  else:\n",
        "    print(\"GPU is enabled in this notebook.\")\n",
        "\n",
        "  return device\n",
        "\n",
        "#TODO MAKE INTO AN ACTUAL EXPLANATION OF THE CODE\n",
        "# TAKES A MODEL, AN OPTIMIZER, THE TRAIN / TEST DATA, THE NUMBER OF EPOCHS, \n",
        "# BATCH SIZE AND LEARNING RATE TO TRAIN THE MODEL AND RETURN A TRAINED VERSION \n",
        "# COULD INCLUDE OPTIMIZERS AND LOSS FUNCTIONS AS VARIABLES IF I REALLY WANTED TO\n",
        "def train(model : nn.Module, \n",
        "          train_data : Dataset, \n",
        "          test_data : Dataset,\n",
        "          num_classes : int,\n",
        "          num_epochs : int,\n",
        "          batch_size : int, \n",
        "          learning_rate : float,\n",
        "          device\n",
        "          ):\n",
        "    \n",
        "    # Initialization\n",
        "    # first create dataloaders containing the data such that we can iterate on\n",
        "    train_dloader = DataLoader(dataset=train_data, batch_size=batch_size, shuffle=True)\n",
        "    test_dloader = DataLoader(dataset=test_data, batch_size=batch_size)\n",
        "    \n",
        "    # set the loss function and optimizer\n",
        "    loss_fn = nn.CrossEntropyLoss()\n",
        "    optimizer = optim.Adam(params=model.parameters(), lr=learning_rate)\n",
        "\n",
        "    # store training / testing accuracy and loss over time\n",
        "    train_acc, test_acc, train_loss, test_loss = [], [], [], []\n",
        "\n",
        "\n",
        "    # Train loop per epoch\n",
        "    for i in range(num_epochs):\n",
        "        print(\"Epoch\", i + 1, \"!\")\n",
        "        # Train phase; initialization\n",
        "        model.train()\n",
        "        \n",
        "        epoch_train_loss = 0\n",
        "        correct_train_pred = 0\n",
        "\n",
        "        it_train = iter(train_dloader)\n",
        "        # Training loop per data batch\n",
        "        # feed images as batch into the network to calculate predictions\n",
        "        for _ in tqdm.tqdm(range(len(train_dloader))):\n",
        "            images, labels = next(it_train)\n",
        "            labels = labels.to(torch.int64)\n",
        "            # make predictions and compute corresponding loss\n",
        "            predictions = model(images)\n",
        "            # print(\"\\n pred\", predictions, \"; shape: \", predictions.shape)\n",
        "            labelwise_probability = torch.zeros(len(labels), num_classes, dtype=predictions.dtype).to(device)\n",
        "            # print(\"\\n lwprob1\", labelwise_probability, \"; shape: \", labelwise_probability.shape)\n",
        "            labelwise_probability[torch.arange(len(labels)), labels] = 1.0\n",
        "            # print(\"\\n lwprob2\", labelwise_probability, \"; shape: \", labelwise_probability.shape)\n",
        "            loss = loss_fn(predictions, labelwise_probability)\n",
        "            # print(\"\\n loss\", loss, \"; shape: \", loss.shape)\n",
        "            correct_train_pred += torch.sum(\n",
        "                torch.argmax(predictions, dim=1) == labels\n",
        "                ).item()\n",
        "            # print(\"\\n corr_preds \", correct_train_pred)\n",
        "            epoch_train_loss += loss.item()\n",
        "            # perform an optimizer step\n",
        "            optimizer.zero_grad()\n",
        "            loss.backward()\n",
        "            optimizer.step()\n",
        "\n",
        "\n",
        "        # Train end in epoch\n",
        "        # track performance at epoch end\n",
        "        train_acc.append(tr_acc_ep := correct_train_pred / len(train_data))\n",
        "        train_loss.append(tr_los_ep := epoch_train_loss / len(train_data))\n",
        "        print(\"training accuracy: \", tr_acc_ep, \"; training loss: \", tr_los_ep)\n",
        "        \n",
        "\n",
        "        # Evaluate phase; initialization\n",
        "        # evaluate and store performance to track extent of learning\n",
        "        model.eval()\n",
        "\n",
        "        epoch_test_loss = 0\n",
        "        correct_test_pred = 0\n",
        "\n",
        "        with torch.no_grad():\n",
        "            # Evaluate loop per data batch\n",
        "            for images, labels in test_dloader:\n",
        "                labels = labels.to(torch.int64)\n",
        "                predictions = model(images)            \n",
        "                labelwise_probability = torch.zeros(len(labels), num_classes, dtype=predictions.dtype).to(device)\n",
        "                labelwise_probability[torch.arange(len(labels)), labels] = 1.0\n",
        "                loss = loss_fn(predictions, labelwise_probability)\n",
        "                correct_test_pred += torch.sum(\n",
        "                    torch.argmax(predictions, dim=1) == labels\n",
        "                    ).item()\n",
        "                epoch_test_loss += loss.item()\n",
        "            \n",
        "            \n",
        "            # Test end in epoch\n",
        "            # track performance at epoch end\n",
        "            test_acc.append(te_acc_ep := correct_test_pred / len(test_data))\n",
        "            test_loss.append(te_los_ep := epoch_test_loss / len(test_data))\n",
        "            print(\"testing accuracy: \", te_acc_ep, \"; testing loss: \", te_los_ep)\n",
        "    \n",
        "    # After all training / testing\n",
        "    # nothing for now\n",
        "\n",
        "    return model, train_acc, test_acc, train_loss, test_loss"
      ],
      "metadata": {
        "id": "Xhp7-JkaPfLK"
      },
      "execution_count": null,
      "outputs": []
    },
    {
      "cell_type": "code",
      "source": [
        "DEVICE = set_device()\n",
        "\n",
        "input_shape = (1, 28, 28)\n",
        "num_classes = 10\n",
        "path_to_source = data_download_folder\n",
        "\n",
        "\n",
        "# preparing the data\n",
        "with np.load(path_to_source + \"/\" + \"kmnist-train-imgs.npz\") as data:\n",
        "    train_imgs = torch.from_numpy(data[\"arr_0\"]).to(torch.float32).to(DEVICE)\n",
        "    train_imgs = train_imgs.unsqueeze(1) #add a dummy \"channel\" dimension\n",
        "with np.load(path_to_source + \"/\" + \"kmnist-train-labels.npz\") as data:\n",
        "    train_labels = torch.from_numpy(data[\"arr_0\"]).to(DEVICE)\n",
        "with np.load(path_to_source + \"/\" + \"kmnist-test-imgs.npz\") as data:\n",
        "    test_imgs = torch.from_numpy(data[\"arr_0\"]).to(torch.float32).to(DEVICE)\n",
        "    test_imgs = test_imgs.unsqueeze(1) #add a dummy \"channel\" dimension\n",
        "with np.load(path_to_source + \"/\" + \"kmnist-test-labels.npz\") as data:\n",
        "    test_labels = torch.from_numpy(data[\"arr_0\"]).to(DEVICE)\n",
        "\n",
        "train_d : Dataset = TensorDataset(train_imgs, train_labels)\n",
        "test_d : Dataset = TensorDataset(test_imgs, test_labels)\n",
        "\n",
        "hyperparameters = [\n",
        "    {\n",
        "        \"num_epochs\" : 40,\n",
        "        \"batch_size\" : 128,\n",
        "        \"l_r\" : 5e-6\n",
        "    }\n",
        "]"
      ],
      "metadata": {
        "id": "e4L-Cmm7Pq-g",
        "colab": {
          "base_uri": "https://localhost:8080/"
        },
        "outputId": "44c061ca-c06b-4a2c-ce9f-c60a90b83b31"
      },
      "execution_count": null,
      "outputs": [
        {
          "output_type": "stream",
          "name": "stdout",
          "text": [
            "WARNING: For this notebook to perform best, if possible, in the menu under `Runtime` -> `Change runtime type.`  select `GPU` \n"
          ]
        }
      ]
    },
    {
      "cell_type": "code",
      "source": [
        "train_accs, test_accs, train_losses, test_losses = [], [], [], []\n",
        "\n",
        "for hparams in hyperparameters:\n",
        "    cnn = MyFirstCNNv3(input_shape=input_shape, output_size=num_classes).to(DEVICE)\n",
        "    trained_model, train_acc, test_acc, train_loss, test_loss = train(\n",
        "                        model=cnn,\n",
        "                        train_data=train_d,\n",
        "                        test_data=test_d,\n",
        "                        num_classes=num_classes,\n",
        "                        num_epochs=hparams[\"num_epochs\"],\n",
        "                        batch_size=hparams[\"batch_size\"],\n",
        "                        learning_rate=hparams[\"l_r\"],\n",
        "                        device=DEVICE\n",
        "                        )\n",
        "    new_model_name = \"./models/kmnist_model_\" + datetime.now().strftime(\"%Y_%m_%d_%H_%M\")\n",
        "    new_model_name += (\"_num_epochs_\" + str(hparams[\"num_epochs\"]))  \n",
        "    new_model_name += (\"_batch_size_\" + str(hparams[\"batch_size\"]))\n",
        "    new_model_name += (\"_l_r_\" + str(hparams[\"l_r\"]))\n",
        "    torch.save(\n",
        "        trained_model.state_dict(), \n",
        "        new_model_name\n",
        "    )\n",
        "    train_accs.append(train_acc)\n",
        "    test_accs.append(test_acc)\n",
        "    train_losses.append(train_loss)\n",
        "    test_losses.append(test_loss)\n",
        "\n",
        "for i in range(len(train_accs)):\n",
        "    train_acc_i = train_accs[i]\n",
        "    test_acc_i = test_accs[i]\n",
        "    train_loss_i = train_losses[i]\n",
        "    test_loss_i = test_losses[i]\n",
        "\n",
        "    plt.plot(range(len(train_acc_i)), train_acc_i, range(len(test_acc_i)), test_acc_i)\n",
        "    plt.title(\"Train and test accuracy \" + str(i))\n",
        "    plt.xlabel(\"Epoch\")\n",
        "    plt.ylabel(\"Accuracy\")\n",
        "    plt.show()\n",
        "\n",
        "    plt.plot(range(len(train_loss_i)), train_loss_i, range(len(test_loss_i)), test_loss_i)\n",
        "    plt.title(\"Train and test loss \" + str(i))\n",
        "    plt.xlabel(\"Epoch\")\n",
        "    plt.ylabel(\"Loss\")\n",
        "    plt.show()"
      ],
      "metadata": {
        "id": "pUsC3DViQQbp",
        "colab": {
          "base_uri": "https://localhost:8080/",
          "height": 659
        },
        "outputId": "4be6e0ae-c647-49d7-b481-275995f320c9"
      },
      "execution_count": null,
      "outputs": [
        {
          "output_type": "stream",
          "name": "stdout",
          "text": [
            "Epoch 1 !\n"
          ]
        },
        {
          "output_type": "stream",
          "name": "stderr",
          "text": [
            "  0%|          | 0/469 [00:00<?, ?it/s]"
          ]
        },
        {
          "output_type": "stream",
          "name": "stdout",
          "text": [
            "tensor([[4.1878e+01, 0.0000e+00, 8.3084e-02,  ..., 2.8566e+01, 0.0000e+00,\n",
            "         4.4232e+00],\n",
            "        [2.4541e+01, 4.5962e+01, 2.2037e+01,  ..., 8.5440e+00, 2.4933e+01,\n",
            "         2.1377e+01],\n",
            "        [2.0924e+00, 1.0906e+00, 1.5017e+01,  ..., 0.0000e+00, 6.1466e-02,\n",
            "         3.1537e+01],\n",
            "        ...,\n",
            "        [6.1455e+01, 0.0000e+00, 0.0000e+00,  ..., 1.3536e+01, 1.8748e+01,\n",
            "         0.0000e+00],\n",
            "        [4.3510e+01, 7.7555e+01, 6.0725e+01,  ..., 9.1993e+00, 0.0000e+00,\n",
            "         0.0000e+00],\n",
            "        [0.0000e+00, 0.0000e+00, 3.1026e+00,  ..., 0.0000e+00, 1.2444e+01,\n",
            "         1.4592e+00]], grad_fn=<CatBackward0>)\n",
            "torch.Size([128, 3200])\n"
          ]
        },
        {
          "output_type": "stream",
          "name": "stderr",
          "text": [
            "\n"
          ]
        },
        {
          "output_type": "error",
          "ename": "RuntimeError",
          "evalue": "ignored",
          "traceback": [
            "\u001b[0;31m---------------------------------------------------------------------------\u001b[0m",
            "\u001b[0;31mRuntimeError\u001b[0m                              Traceback (most recent call last)",
            "\u001b[0;32m<ipython-input-26-8efd3b3e307b>\u001b[0m in \u001b[0;36m<cell line: 3>\u001b[0;34m()\u001b[0m\n\u001b[1;32m      3\u001b[0m \u001b[0;32mfor\u001b[0m \u001b[0mhparams\u001b[0m \u001b[0;32min\u001b[0m \u001b[0mhyperparameters\u001b[0m\u001b[0;34m:\u001b[0m\u001b[0;34m\u001b[0m\u001b[0;34m\u001b[0m\u001b[0m\n\u001b[1;32m      4\u001b[0m     \u001b[0mcnn\u001b[0m \u001b[0;34m=\u001b[0m \u001b[0mMyFirstCNNv3\u001b[0m\u001b[0;34m(\u001b[0m\u001b[0minput_shape\u001b[0m\u001b[0;34m=\u001b[0m\u001b[0minput_shape\u001b[0m\u001b[0;34m,\u001b[0m \u001b[0moutput_size\u001b[0m\u001b[0;34m=\u001b[0m\u001b[0mnum_classes\u001b[0m\u001b[0;34m)\u001b[0m\u001b[0;34m.\u001b[0m\u001b[0mto\u001b[0m\u001b[0;34m(\u001b[0m\u001b[0mDEVICE\u001b[0m\u001b[0;34m)\u001b[0m\u001b[0;34m\u001b[0m\u001b[0;34m\u001b[0m\u001b[0m\n\u001b[0;32m----> 5\u001b[0;31m     trained_model, train_acc, test_acc, train_loss, test_loss = train(\n\u001b[0m\u001b[1;32m      6\u001b[0m                         \u001b[0mmodel\u001b[0m\u001b[0;34m=\u001b[0m\u001b[0mcnn\u001b[0m\u001b[0;34m,\u001b[0m\u001b[0;34m\u001b[0m\u001b[0;34m\u001b[0m\u001b[0m\n\u001b[1;32m      7\u001b[0m                         \u001b[0mtrain_data\u001b[0m\u001b[0;34m=\u001b[0m\u001b[0mtrain_d\u001b[0m\u001b[0;34m,\u001b[0m\u001b[0;34m\u001b[0m\u001b[0;34m\u001b[0m\u001b[0m\n",
            "\u001b[0;32m<ipython-input-24-3a1ece04aa07>\u001b[0m in \u001b[0;36mtrain\u001b[0;34m(model, train_data, test_data, num_classes, num_epochs, batch_size, learning_rate, device)\u001b[0m\n\u001b[1;32m     78\u001b[0m             \u001b[0mlabels\u001b[0m \u001b[0;34m=\u001b[0m \u001b[0mlabels\u001b[0m\u001b[0;34m.\u001b[0m\u001b[0mto\u001b[0m\u001b[0;34m(\u001b[0m\u001b[0mtorch\u001b[0m\u001b[0;34m.\u001b[0m\u001b[0mint64\u001b[0m\u001b[0;34m)\u001b[0m\u001b[0;34m\u001b[0m\u001b[0;34m\u001b[0m\u001b[0m\n\u001b[1;32m     79\u001b[0m             \u001b[0;31m# make predictions and compute corresponding loss\u001b[0m\u001b[0;34m\u001b[0m\u001b[0;34m\u001b[0m\u001b[0m\n\u001b[0;32m---> 80\u001b[0;31m             \u001b[0mpredictions\u001b[0m \u001b[0;34m=\u001b[0m \u001b[0mmodel\u001b[0m\u001b[0;34m(\u001b[0m\u001b[0mimages\u001b[0m\u001b[0;34m)\u001b[0m\u001b[0;34m\u001b[0m\u001b[0;34m\u001b[0m\u001b[0m\n\u001b[0m\u001b[1;32m     81\u001b[0m             \u001b[0;31m# print(\"\\n pred\", predictions, \"; shape: \", predictions.shape)\u001b[0m\u001b[0;34m\u001b[0m\u001b[0;34m\u001b[0m\u001b[0m\n\u001b[1;32m     82\u001b[0m             \u001b[0mlabelwise_probability\u001b[0m \u001b[0;34m=\u001b[0m \u001b[0mtorch\u001b[0m\u001b[0;34m.\u001b[0m\u001b[0mzeros\u001b[0m\u001b[0;34m(\u001b[0m\u001b[0mlen\u001b[0m\u001b[0;34m(\u001b[0m\u001b[0mlabels\u001b[0m\u001b[0;34m)\u001b[0m\u001b[0;34m,\u001b[0m \u001b[0mnum_classes\u001b[0m\u001b[0;34m,\u001b[0m \u001b[0mdtype\u001b[0m\u001b[0;34m=\u001b[0m\u001b[0mpredictions\u001b[0m\u001b[0;34m.\u001b[0m\u001b[0mdtype\u001b[0m\u001b[0;34m)\u001b[0m\u001b[0;34m.\u001b[0m\u001b[0mto\u001b[0m\u001b[0;34m(\u001b[0m\u001b[0mdevice\u001b[0m\u001b[0;34m)\u001b[0m\u001b[0;34m\u001b[0m\u001b[0;34m\u001b[0m\u001b[0m\n",
            "\u001b[0;32m/usr/local/lib/python3.10/dist-packages/torch/nn/modules/module.py\u001b[0m in \u001b[0;36m_call_impl\u001b[0;34m(self, *args, **kwargs)\u001b[0m\n\u001b[1;32m   1499\u001b[0m                 \u001b[0;32mor\u001b[0m \u001b[0m_global_backward_pre_hooks\u001b[0m \u001b[0;32mor\u001b[0m \u001b[0m_global_backward_hooks\u001b[0m\u001b[0;34m\u001b[0m\u001b[0;34m\u001b[0m\u001b[0m\n\u001b[1;32m   1500\u001b[0m                 or _global_forward_hooks or _global_forward_pre_hooks):\n\u001b[0;32m-> 1501\u001b[0;31m             \u001b[0;32mreturn\u001b[0m \u001b[0mforward_call\u001b[0m\u001b[0;34m(\u001b[0m\u001b[0;34m*\u001b[0m\u001b[0margs\u001b[0m\u001b[0;34m,\u001b[0m \u001b[0;34m**\u001b[0m\u001b[0mkwargs\u001b[0m\u001b[0;34m)\u001b[0m\u001b[0;34m\u001b[0m\u001b[0;34m\u001b[0m\u001b[0m\n\u001b[0m\u001b[1;32m   1502\u001b[0m         \u001b[0;31m# Do not call functions when jit is used\u001b[0m\u001b[0;34m\u001b[0m\u001b[0;34m\u001b[0m\u001b[0m\n\u001b[1;32m   1503\u001b[0m         \u001b[0mfull_backward_hooks\u001b[0m\u001b[0;34m,\u001b[0m \u001b[0mnon_full_backward_hooks\u001b[0m \u001b[0;34m=\u001b[0m \u001b[0;34m[\u001b[0m\u001b[0;34m]\u001b[0m\u001b[0;34m,\u001b[0m \u001b[0;34m[\u001b[0m\u001b[0;34m]\u001b[0m\u001b[0;34m\u001b[0m\u001b[0;34m\u001b[0m\u001b[0m\n",
            "\u001b[0;32m<ipython-input-23-e634ed6559be>\u001b[0m in \u001b[0;36mforward\u001b[0;34m(self, x)\u001b[0m\n\u001b[1;32m    204\u001b[0m         \u001b[0mprint\u001b[0m\u001b[0;34m(\u001b[0m\u001b[0mtorch\u001b[0m\u001b[0;34m.\u001b[0m\u001b[0mcat\u001b[0m\u001b[0;34m(\u001b[0m \u001b[0;34m(\u001b[0m\u001b[0mtorch\u001b[0m\u001b[0;34m.\u001b[0m\u001b[0mflatten\u001b[0m\u001b[0;34m(\u001b[0m\u001b[0mx1\u001b[0m\u001b[0;34m,\u001b[0m \u001b[0mstart_dim\u001b[0m\u001b[0;34m=\u001b[0m\u001b[0;36m1\u001b[0m\u001b[0;34m)\u001b[0m\u001b[0;34m,\u001b[0m \u001b[0mtorch\u001b[0m\u001b[0;34m.\u001b[0m\u001b[0mflatten\u001b[0m\u001b[0;34m(\u001b[0m\u001b[0mx1\u001b[0m\u001b[0;34m,\u001b[0m \u001b[0mstart_dim\u001b[0m\u001b[0;34m=\u001b[0m\u001b[0;36m1\u001b[0m\u001b[0;34m)\u001b[0m\u001b[0;34m)\u001b[0m\u001b[0;34m,\u001b[0m \u001b[0mdim\u001b[0m\u001b[0;34m=\u001b[0m\u001b[0;36m1\u001b[0m\u001b[0;34m)\u001b[0m\u001b[0;34m.\u001b[0m\u001b[0mshape\u001b[0m\u001b[0;34m)\u001b[0m\u001b[0;34m\u001b[0m\u001b[0;34m\u001b[0m\u001b[0m\n\u001b[1;32m    205\u001b[0m         \u001b[0mx\u001b[0m \u001b[0;34m=\u001b[0m \u001b[0mtorch\u001b[0m\u001b[0;34m.\u001b[0m\u001b[0mcat\u001b[0m\u001b[0;34m(\u001b[0m \u001b[0;34m(\u001b[0m\u001b[0mtorch\u001b[0m\u001b[0;34m.\u001b[0m\u001b[0mflatten\u001b[0m\u001b[0;34m(\u001b[0m\u001b[0mx1\u001b[0m\u001b[0;34m,\u001b[0m \u001b[0mstart_dim\u001b[0m\u001b[0;34m=\u001b[0m\u001b[0;36m1\u001b[0m\u001b[0;34m)\u001b[0m\u001b[0;34m,\u001b[0m \u001b[0mtorch\u001b[0m\u001b[0;34m.\u001b[0m\u001b[0mflatten\u001b[0m\u001b[0;34m(\u001b[0m\u001b[0mx1\u001b[0m\u001b[0;34m,\u001b[0m \u001b[0mstart_dim\u001b[0m\u001b[0;34m=\u001b[0m\u001b[0;36m1\u001b[0m\u001b[0;34m)\u001b[0m\u001b[0;34m)\u001b[0m\u001b[0;34m,\u001b[0m \u001b[0mdim\u001b[0m\u001b[0;34m=\u001b[0m\u001b[0;36m1\u001b[0m\u001b[0;34m)\u001b[0m\u001b[0;34m\u001b[0m\u001b[0;34m\u001b[0m\u001b[0m\n\u001b[0;32m--> 206\u001b[0;31m         \u001b[0mx\u001b[0m \u001b[0;34m=\u001b[0m \u001b[0mself\u001b[0m\u001b[0;34m.\u001b[0m\u001b[0mfc1\u001b[0m\u001b[0;34m(\u001b[0m\u001b[0mx\u001b[0m\u001b[0;34m)\u001b[0m\u001b[0;34m\u001b[0m\u001b[0;34m\u001b[0m\u001b[0m\n\u001b[0m\u001b[1;32m    207\u001b[0m         \u001b[0mx\u001b[0m \u001b[0;34m=\u001b[0m \u001b[0mF\u001b[0m\u001b[0;34m.\u001b[0m\u001b[0mrelu\u001b[0m\u001b[0;34m(\u001b[0m\u001b[0mx\u001b[0m\u001b[0;34m)\u001b[0m\u001b[0;34m\u001b[0m\u001b[0;34m\u001b[0m\u001b[0m\n\u001b[1;32m    208\u001b[0m         \u001b[0mx\u001b[0m \u001b[0;34m=\u001b[0m \u001b[0mself\u001b[0m\u001b[0;34m.\u001b[0m\u001b[0mfc2\u001b[0m\u001b[0;34m(\u001b[0m\u001b[0mx\u001b[0m\u001b[0;34m)\u001b[0m\u001b[0;34m\u001b[0m\u001b[0;34m\u001b[0m\u001b[0m\n",
            "\u001b[0;32m/usr/local/lib/python3.10/dist-packages/torch/nn/modules/module.py\u001b[0m in \u001b[0;36m_call_impl\u001b[0;34m(self, *args, **kwargs)\u001b[0m\n\u001b[1;32m   1499\u001b[0m                 \u001b[0;32mor\u001b[0m \u001b[0m_global_backward_pre_hooks\u001b[0m \u001b[0;32mor\u001b[0m \u001b[0m_global_backward_hooks\u001b[0m\u001b[0;34m\u001b[0m\u001b[0;34m\u001b[0m\u001b[0m\n\u001b[1;32m   1500\u001b[0m                 or _global_forward_hooks or _global_forward_pre_hooks):\n\u001b[0;32m-> 1501\u001b[0;31m             \u001b[0;32mreturn\u001b[0m \u001b[0mforward_call\u001b[0m\u001b[0;34m(\u001b[0m\u001b[0;34m*\u001b[0m\u001b[0margs\u001b[0m\u001b[0;34m,\u001b[0m \u001b[0;34m**\u001b[0m\u001b[0mkwargs\u001b[0m\u001b[0;34m)\u001b[0m\u001b[0;34m\u001b[0m\u001b[0;34m\u001b[0m\u001b[0m\n\u001b[0m\u001b[1;32m   1502\u001b[0m         \u001b[0;31m# Do not call functions when jit is used\u001b[0m\u001b[0;34m\u001b[0m\u001b[0;34m\u001b[0m\u001b[0m\n\u001b[1;32m   1503\u001b[0m         \u001b[0mfull_backward_hooks\u001b[0m\u001b[0;34m,\u001b[0m \u001b[0mnon_full_backward_hooks\u001b[0m \u001b[0;34m=\u001b[0m \u001b[0;34m[\u001b[0m\u001b[0;34m]\u001b[0m\u001b[0;34m,\u001b[0m \u001b[0;34m[\u001b[0m\u001b[0;34m]\u001b[0m\u001b[0;34m\u001b[0m\u001b[0;34m\u001b[0m\u001b[0m\n",
            "\u001b[0;32m/usr/local/lib/python3.10/dist-packages/torch/nn/modules/linear.py\u001b[0m in \u001b[0;36mforward\u001b[0;34m(self, input)\u001b[0m\n\u001b[1;32m    112\u001b[0m \u001b[0;34m\u001b[0m\u001b[0m\n\u001b[1;32m    113\u001b[0m     \u001b[0;32mdef\u001b[0m \u001b[0mforward\u001b[0m\u001b[0;34m(\u001b[0m\u001b[0mself\u001b[0m\u001b[0;34m,\u001b[0m \u001b[0minput\u001b[0m\u001b[0;34m:\u001b[0m \u001b[0mTensor\u001b[0m\u001b[0;34m)\u001b[0m \u001b[0;34m->\u001b[0m \u001b[0mTensor\u001b[0m\u001b[0;34m:\u001b[0m\u001b[0;34m\u001b[0m\u001b[0;34m\u001b[0m\u001b[0m\n\u001b[0;32m--> 114\u001b[0;31m         \u001b[0;32mreturn\u001b[0m \u001b[0mF\u001b[0m\u001b[0;34m.\u001b[0m\u001b[0mlinear\u001b[0m\u001b[0;34m(\u001b[0m\u001b[0minput\u001b[0m\u001b[0;34m,\u001b[0m \u001b[0mself\u001b[0m\u001b[0;34m.\u001b[0m\u001b[0mweight\u001b[0m\u001b[0;34m,\u001b[0m \u001b[0mself\u001b[0m\u001b[0;34m.\u001b[0m\u001b[0mbias\u001b[0m\u001b[0;34m)\u001b[0m\u001b[0;34m\u001b[0m\u001b[0;34m\u001b[0m\u001b[0m\n\u001b[0m\u001b[1;32m    115\u001b[0m \u001b[0;34m\u001b[0m\u001b[0m\n\u001b[1;32m    116\u001b[0m     \u001b[0;32mdef\u001b[0m \u001b[0mextra_repr\u001b[0m\u001b[0;34m(\u001b[0m\u001b[0mself\u001b[0m\u001b[0;34m)\u001b[0m \u001b[0;34m->\u001b[0m \u001b[0mstr\u001b[0m\u001b[0;34m:\u001b[0m\u001b[0;34m\u001b[0m\u001b[0;34m\u001b[0m\u001b[0m\n",
            "\u001b[0;31mRuntimeError\u001b[0m: mat1 and mat2 shapes cannot be multiplied (128x3200 and 7872x15744)"
          ]
        }
      ]
    }
  ]
}